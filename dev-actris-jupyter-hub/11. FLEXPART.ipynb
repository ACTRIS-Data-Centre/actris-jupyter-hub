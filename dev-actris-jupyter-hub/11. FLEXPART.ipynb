{
 "cells": [
  {
   "cell_type": "code",
   "execution_count": 2,
   "metadata": {},
   "outputs": [],
   "source": [
    "# import packages\n",
    "import pandas as pd\n",
    "import numpy as np \n",
    "import requests\n",
    "import json\n",
    "\n",
    "import matplotlib.pyplot as plt\n",
    "import plotly\n",
    "import plotly.express as px\n",
    "import plotly.graph_objects as go\n",
    "from plotly.subplots import make_subplots\n"
   ]
  },
  {
   "cell_type": "code",
   "execution_count": 16,
   "metadata": {},
   "outputs": [
    {
     "data": {
      "text/html": [
       "<div>\n",
       "<style scoped>\n",
       "    .dataframe tbody tr th:only-of-type {\n",
       "        vertical-align: middle;\n",
       "    }\n",
       "\n",
       "    .dataframe tbody tr th {\n",
       "        vertical-align: top;\n",
       "    }\n",
       "\n",
       "    .dataframe thead th {\n",
       "        text-align: right;\n",
       "    }\n",
       "</style>\n",
       "<table border=\"1\" class=\"dataframe\">\n",
       "  <thead>\n",
       "    <tr style=\"text-align: right;\">\n",
       "      <th></th>\n",
       "      <th>num_id</th>\n",
       "      <th>identifier</th>\n",
       "      <th>name</th>\n",
       "      <th>lat</th>\n",
       "      <th>lon</th>\n",
       "      <th>alt</th>\n",
       "      <th>country_code</th>\n",
       "      <th>wmo_region</th>\n",
       "      <th>identifier_type</th>\n",
       "      <th>uri</th>\n",
       "    </tr>\n",
       "  </thead>\n",
       "  <tbody>\n",
       "    <tr>\n",
       "      <th>0</th>\n",
       "      <td>417</td>\n",
       "      <td>9cxe</td>\n",
       "      <td>Birkenes II</td>\n",
       "      <td>58.38853</td>\n",
       "      <td>8.252</td>\n",
       "      <td>219.0</td>\n",
       "      <td>NO</td>\n",
       "      <td>Europe</td>\n",
       "      <td>other PID</td>\n",
       "      <td>https://dev-dc.actris.nilu.no/facility/9cxe</td>\n",
       "    </tr>\n",
       "  </tbody>\n",
       "</table>\n",
       "</div>"
      ],
      "text/plain": [
       "   num_id identifier         name       lat    lon    alt country_code  \\\n",
       "0     417       9cxe  Birkenes II  58.38853  8.252  219.0           NO   \n",
       "\n",
       "  wmo_region identifier_type                                          uri  \n",
       "0     Europe       other PID  https://dev-dc.actris.nilu.no/facility/9cxe  "
      ]
     },
     "execution_count": 16,
     "metadata": {},
     "output_type": "execute_result"
    }
   ],
   "source": [
    "response = requests.get(\"https://dev-actris-md.nilu.no/Facilities/9cxe\") \n",
    "facilities = pd.DataFrame(response.json())\n",
    "facilities\n"
   ]
  },
  {
   "cell_type": "code",
   "execution_count": 22,
   "metadata": {},
   "outputs": [],
   "source": [
    "response = requests.get(\"https://dev-actris-md.nilu.no/Metadata/facility/9cxe\")\n",
    "metadata = response.json()"
   ]
  },
  {
   "cell_type": "code",
   "execution_count": 26,
   "metadata": {},
   "outputs": [
    {
     "data": {
      "text/plain": [
       "['https://dev-thredds.nilu.no/thredds/dodsC/test_catalog/TA/WF/MF/TAWF-MFDW.nc',\n",
       " 'https://dev-thredds.nilu.no/thredds/dodsC/test_catalog/WS/W7/CR/WSW7-CRHE.nc',\n",
       " 'https://dev-thredds.nilu.no/thredds/dodsC/test_catalog/5G/U4/EG/5GU4-EGQW.nc',\n",
       " 'https://dev-thredds.nilu.no/thredds/dodsC/test_catalog/RT/65/CP/RT65-CP6V.nc',\n",
       " 'https://dev-thredds.nilu.no/thredds/dodsC/test_catalog/GT/9Q/VY/GT9Q-VY6U.nc',\n",
       " 'https://dev-thredds.nilu.no/thredds/dodsC/test_catalog/W2/JQ/WC/W2JQ-WCQY.nc',\n",
       " 'https://dev-thredds.nilu.no/thredds/dodsC/test_catalog/HB/GH/KQ/HBGH-KQ2V.nc',\n",
       " 'https://dev-thredds.nilu.no/thredds/dodsC/test_catalog/9S/ZR/S2/9SZR-S2NX.nc',\n",
       " 'https://dev-thredds.nilu.no/thredds/dodsC/test_catalog/RM/MY/4T/RMMY-4TNV.nc',\n",
       " 'https://dev-thredds.nilu.no/thredds/dodsC/test_catalog/ZT/EC/UT/ZTEC-UT7Y.nc',\n",
       " 'https://dev-thredds.nilu.no/thredds/dodsC/test_catalog/69/C4/UT/69C4-UTWC.nc',\n",
       " 'https://dev-thredds.nilu.no/thredds/dodsC/test_catalog/26/U6/SE/26U6-SE3J.nc',\n",
       " 'https://dev-thredds.nilu.no/thredds/dodsC/test_catalog/W9/M7/AV/W9M7-AVYC.nc',\n",
       " 'https://dev-thredds.nilu.no/thredds/dodsC/test_catalog/T3/YC/W3/T3YC-W3VM.nc',\n",
       " 'https://dev-thredds.nilu.no/thredds/dodsC/test_catalog/53/FN/YP/53FN-YP9K.nc',\n",
       " 'https://dev-thredds.nilu.no/thredds/dodsC/test_catalog/SX/45/K7/SX45-K772.nc']"
      ]
     },
     "execution_count": 26,
     "metadata": {},
     "output_type": "execute_result"
    }
   ],
   "source": [
    "abs_list = []\n",
    "files_list = []\n",
    "for md in metadata: \n",
    "    if md['md_actris_specific']['instrument_type'][0] == 'in situ particle optical parameter instrument':\n",
    "        if md['md_content_information']['attribute_descriptions'][0] == 'aerosol particle light absorption coefficient': \n",
    "            abs_list.append(md)\n",
    "print(abs_list)\n",
    "for md in abs_list:\n",
    "    for i in range(len(md['md_distribution_information'])):\n",
    "        if md['md_distribution_information'][i]['protocol'] == 'OPeNDAP':\n",
    "            url = md['md_distribution_information'][i]['dataset_url']\n",
    "            files_list.append(url)\n",
    "files_list"
   ]
  },
  {
   "cell_type": "code",
   "execution_count": null,
   "metadata": {},
   "outputs": [],
   "source": []
  }
 ],
 "metadata": {
  "kernelspec": {
   "display_name": "base",
   "language": "python",
   "name": "python3"
  },
  "language_info": {
   "codemirror_mode": {
    "name": "ipython",
    "version": 3
   },
   "file_extension": ".py",
   "mimetype": "text/x-python",
   "name": "python",
   "nbconvert_exporter": "python",
   "pygments_lexer": "ipython3",
   "version": "3.9.16"
  }
 },
 "nbformat": 4,
 "nbformat_minor": 2
}
