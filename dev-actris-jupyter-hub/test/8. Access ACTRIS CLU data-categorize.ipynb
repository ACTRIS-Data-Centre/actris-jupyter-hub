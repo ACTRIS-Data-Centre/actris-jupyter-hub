{
 "cells": [
  {
   "cell_type": "markdown",
   "id": "75bc0ab4-777a-42e9-9c59-0dd14b96ad6b",
   "metadata": {},
   "source": [
    "<img src='https://www.actris.eu/sites/default/files/inline-images/Actris%20logo.png' width=200 align=right>\n",
    "\n",
    "# ACTRIS DC\n",
    "\n",
    "## Access ACTRIS CLU data"
   ]
  },
  {
   "cell_type": "code",
   "execution_count": 5,
   "id": "e193689d-deb0-416b-bb97-a3245e9403a8",
   "metadata": {},
   "outputs": [],
   "source": [
    "from pathlib import Path\n",
    "import datetime\n",
    "\n",
    "import requests\n",
    "import netCDF4\n",
    "import numpy as np\n",
    "import matplotlib.pyplot as plt\n",
    "\n",
    "from ipywidgets import IntProgress\n",
    "from IPython.display import display"
   ]
  },
  {
   "cell_type": "markdown",
   "id": "50704624-065d-46a5-96c7-b7565bafeac4",
   "metadata": {},
   "source": [
    "### Download\n",
    "\n",
    "We're going to use Cloudnet data portal API to search and download netCDF4 files. For more information, see <https://docs.cloudnet.fmi.fi>.\n",
    "\n",
    "Let's download all classification products from Hyytiälä in 2022. These products contain Cloudnet classification of atmospheric scatterers detected by radar and lidar."
   ]
  },
  {
   "cell_type": "code",
   "execution_count": 9,
   "id": "cd09afba-2385-4c19-b4e0-ae26ca962495",
   "metadata": {},
   "outputs": [
    {
     "data": {
      "application/vnd.jupyter.widget-view+json": {
       "model_id": "0c4da4582d5143d09b053fee929cdff6",
       "version_major": 2,
       "version_minor": 0
      },
      "text/plain": [
       "IntProgress(value=0, description='Download:', max=344)"
      ]
     },
     "metadata": {},
     "output_type": "display_data"
    }
   ],
   "source": [
    "outdir = Path(\"clu-data\")\n",
    "outdir.mkdir(exist_ok=True)\n",
    "r = requests.get(\"https://cloudnet.fmi.fi/api/files\", \n",
    "                 params={\"site\": \"norunda\",\n",
    "                         \"product\": \"categorize\",\n",
    "                         \"dateFrom\": \"2022-01-01\",\n",
    "                         \"dateTo\": \"2022-12-31\"})\n",
    "r.raise_for_status()\n",
    "files = r.json()\n",
    "progress = IntProgress(min=0, max=len(files), description=\"Download:\")\n",
    "display(progress)\n",
    "for file in files:\n",
    "    r = requests.get(file[\"downloadUrl\"])\n",
    "    r.raise_for_status()\n",
    "    (outdir / file[\"filename\"]).write_bytes(r.content)\n",
    "    progress.value += 1"
   ]
  },
  {
   "cell_type": "markdown",
   "id": "0dd3eb62-6390-468c-8a1e-c301b06d5697",
   "metadata": {},
   "source": [
    "### Analyse\n",
    "\n",
    "Count and visualise number of pixels containing insects relative to the total number of pixels. Insect are indicated by classification class 9 (insects, no cloud or precipitation) and class 10 (aerosol coexisting with insects, no cloud or precipitation)."
   ]
  },
  {
   "cell_type": "code",
   "execution_count": 7,
   "id": "9462af28-0e92-4f4d-9bb8-b5847eea49b9",
   "metadata": {},
   "outputs": [
    {
     "ename": "IndexError",
     "evalue": "target_classification not found in /",
     "output_type": "error",
     "traceback": [
      "\u001b[0;31m---------------------------------------------------------------------------\u001b[0m",
      "\u001b[0;31mIndexError\u001b[0m                                Traceback (most recent call last)",
      "\u001b[0;32m/tmp/ipykernel_319334/63075758.py\u001b[0m in \u001b[0;36m<module>\u001b[0;34m\u001b[0m\n\u001b[1;32m      3\u001b[0m \u001b[0;32mfor\u001b[0m \u001b[0mp\u001b[0m \u001b[0;32min\u001b[0m \u001b[0msorted\u001b[0m\u001b[0;34m(\u001b[0m\u001b[0moutdir\u001b[0m\u001b[0;34m.\u001b[0m\u001b[0miterdir\u001b[0m\u001b[0;34m(\u001b[0m\u001b[0;34m)\u001b[0m\u001b[0;34m)\u001b[0m\u001b[0;34m:\u001b[0m\u001b[0;34m\u001b[0m\u001b[0;34m\u001b[0m\u001b[0m\n\u001b[1;32m      4\u001b[0m     \u001b[0;32mwith\u001b[0m \u001b[0mnetCDF4\u001b[0m\u001b[0;34m.\u001b[0m\u001b[0mDataset\u001b[0m\u001b[0;34m(\u001b[0m\u001b[0mp\u001b[0m\u001b[0;34m)\u001b[0m \u001b[0;32mas\u001b[0m \u001b[0mnc\u001b[0m\u001b[0;34m:\u001b[0m\u001b[0;34m\u001b[0m\u001b[0;34m\u001b[0m\u001b[0m\n\u001b[0;32m----> 5\u001b[0;31m         \u001b[0mn_total\u001b[0m \u001b[0;34m=\u001b[0m \u001b[0mnp\u001b[0m\u001b[0;34m.\u001b[0m\u001b[0mprod\u001b[0m\u001b[0;34m(\u001b[0m\u001b[0mnc\u001b[0m\u001b[0;34m[\u001b[0m\u001b[0;34m\"target_classification\"\u001b[0m\u001b[0;34m]\u001b[0m\u001b[0;34m.\u001b[0m\u001b[0mshape\u001b[0m\u001b[0;34m)\u001b[0m\u001b[0;34m\u001b[0m\u001b[0;34m\u001b[0m\u001b[0m\n\u001b[0m\u001b[1;32m      6\u001b[0m         \u001b[0mn_insects\u001b[0m \u001b[0;34m=\u001b[0m \u001b[0mnp\u001b[0m\u001b[0;34m.\u001b[0m\u001b[0mcount_nonzero\u001b[0m\u001b[0;34m(\u001b[0m\u001b[0mnc\u001b[0m\u001b[0;34m[\u001b[0m\u001b[0;34m\"target_classification\"\u001b[0m\u001b[0;34m]\u001b[0m\u001b[0;34m[\u001b[0m\u001b[0;34m:\u001b[0m\u001b[0;34m]\u001b[0m \u001b[0;34m==\u001b[0m \u001b[0;36m9\u001b[0m\u001b[0;34m)\u001b[0m\u001b[0;34m\u001b[0m\u001b[0;34m\u001b[0m\u001b[0m\n\u001b[1;32m      7\u001b[0m         \u001b[0mn_aerosols_and_insects\u001b[0m \u001b[0;34m=\u001b[0m \u001b[0mnp\u001b[0m\u001b[0;34m.\u001b[0m\u001b[0mcount_nonzero\u001b[0m\u001b[0;34m(\u001b[0m\u001b[0mnc\u001b[0m\u001b[0;34m[\u001b[0m\u001b[0;34m\"target_classification\"\u001b[0m\u001b[0;34m]\u001b[0m\u001b[0;34m[\u001b[0m\u001b[0;34m:\u001b[0m\u001b[0;34m]\u001b[0m \u001b[0;34m==\u001b[0m \u001b[0;36m10\u001b[0m\u001b[0;34m)\u001b[0m\u001b[0;34m\u001b[0m\u001b[0;34m\u001b[0m\u001b[0m\n",
      "\u001b[0;32msrc/netCDF4/_netCDF4.pyx\u001b[0m in \u001b[0;36mnetCDF4._netCDF4.Dataset.__getitem__\u001b[0;34m()\u001b[0m\n",
      "\u001b[0;31mIndexError\u001b[0m: target_classification not found in /"
     ]
    }
   ],
   "source": [
    "dates = []\n",
    "insects = []\n",
    "for p in sorted(outdir.iterdir()):\n",
    "    with netCDF4.Dataset(p) as nc:\n",
    "        n_total = np.prod(nc[\"target_classification\"].shape)\n",
    "        n_insects = np.count_nonzero(nc[\"target_classification\"][:] == 9)\n",
    "        n_aerosols_and_insects = np.count_nonzero(nc[\"target_classification\"][:] == 10)\n",
    "        dates.append(datetime.date(int(nc.year), int(nc.month), int(nc.day)))\n",
    "        insects.append((n_insects + n_aerosols_and_insects) / n_total)\n",
    "plt.plot(dates, insects)\n",
    "plt.show()"
   ]
  },
  {
   "cell_type": "code",
   "execution_count": null,
   "id": "47076b4c",
   "metadata": {},
   "outputs": [],
   "source": []
  }
 ],
 "metadata": {
  "kernelspec": {
   "display_name": "Python 3 (ipykernel)",
   "language": "python",
   "name": "python3"
  },
  "language_info": {
   "codemirror_mode": {
    "name": "ipython",
    "version": 3
   },
   "file_extension": ".py",
   "mimetype": "text/x-python",
   "name": "python",
   "nbconvert_exporter": "python",
   "pygments_lexer": "ipython3",
   "version": "3.9.16"
  }
 },
 "nbformat": 4,
 "nbformat_minor": 5
}
