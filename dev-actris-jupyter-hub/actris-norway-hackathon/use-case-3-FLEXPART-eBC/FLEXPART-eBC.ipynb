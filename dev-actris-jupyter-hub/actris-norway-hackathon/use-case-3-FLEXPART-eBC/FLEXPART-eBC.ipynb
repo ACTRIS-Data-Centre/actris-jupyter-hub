{
 "cells": [
  {
   "cell_type": "markdown",
   "metadata": {},
   "source": [
    "<img src='https://www.actris.eu/sites/default/files/inline-images/Actris%20logo.png' width=200 align=right>\n",
    "\n",
    "# ACTRIS-Norway 3rd Annual Meeting - Hackathon\n",
    "## Use case 3: Black carbon: FLEXPART model and in-situ observations"
   ]
  },
  {
   "cell_type": "markdown",
   "metadata": {},
   "source": [
    "Make a product where you can plot FLEXPART modelled BC either visualized together with the source spectrum or continental spectrum over 1 month with observational eBC from the corresponding stations. eBC lev3 products will be available in the portal for filter absorption photometer QA data.  \n",
    "\n",
    " \n",
    "\n",
    "Main aim: Improve the knowledge of black carbon in Europe, both spatial distribution at ground and with height and the sources and variations on various time scale e.g. 3 hourly, daily and monthly scale. "
   ]
  },
  {
   "cell_type": "markdown",
   "metadata": {},
   "source": []
  }
 ],
 "metadata": {
  "language_info": {
   "name": "python"
  }
 },
 "nbformat": 4,
 "nbformat_minor": 2
}
