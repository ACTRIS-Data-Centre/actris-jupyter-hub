{
 "cells": [
  {
   "cell_type": "markdown",
   "id": "baf962db",
   "metadata": {},
   "source": [
    "<img src='https://www.actris.eu/sites/default/files/inline-images/Actris%20logo.png' width=200 align=right>\n",
    "\n",
    "# ACTRIS DC \n",
    "## Search with ACTRIS Metadata Rest API "
   ]
  },
  {
   "cell_type": "markdown",
   "id": "3385e517",
   "metadata": {},
   "source": [
    "### Using ACTRIS metadata catalog REST API\n",
    "\n",
    "Using the ACTRIS REST API you can access all ACTRIS metadata, stations, instruments, networks etc. It is possible to get the full metadata archive at once, but(!) this can take a bit of time. \n",
    "\n",
    "ACTRIS Rest API documentation: https://prod-actris-md.nilu.no/index.html\n",
    "\n",
    "For the latest version including the metadata schema for model data, you would need to look here: https://dev-actris-md.nilu.no/index.html \n",
    "\n",
    "The ACTRIS Rest API uses the ACTRIS vocabulary for several of the search criteria, the vocabulary can be found here: https://vocabulary.actris.nilu.no/skosmos/actris_vocab/en/\n",
    "\n",
    "NB! The ACTRIS REST API is currently under development, both production version and development version. A fully stable version should be launched in April 2024 at latest.  "
   ]
  },
  {
   "cell_type": "code",
   "execution_count": 1,
   "id": "a4ec45b0",
   "metadata": {},
   "outputs": [],
   "source": [
    "# import packages\n",
    "\n",
    "import pandas as pd\n",
    "import requests\n",
    "import json\n",
    "import ipywidgets as widgets"
   ]
  },
  {
   "cell_type": "markdown",
   "id": "3e81d375",
   "metadata": {},
   "source": [
    "## Browse the metadata archive\n",
    "\n",
    "This is an example of how to browse and get used to the ACTRIS Rest API metadata catalog and each search element. Some of the most used metadata elements in the the ACTRIS metadata catalog is displayed with all values as dropdown widgets. "
   ]
  },
  {
   "cell_type": "code",
   "execution_count": 2,
   "id": "14f35ceb",
   "metadata": {},
   "outputs": [
    {
     "data": {
      "application/vnd.jupyter.widget-view+json": {
       "model_id": "d6953b8f410c420782835cd806567bd7",
       "version_major": 2,
       "version_minor": 0
      },
      "text/plain": [
       "Dropdown(description='Categories:', options=('compliance', 'constrainttype', 'contentattribute', 'contenttype'…"
      ]
     },
     "metadata": {},
     "output_type": "display_data"
    }
   ],
   "source": [
    "# Vocabulary categories\n",
    "\n",
    "response = requests.get(\"https://prod-actris-md.nilu.no/Vocabulary/categories\") # get all countries in metadata archive\n",
    "archive = response.json()\n",
    "df = pd.DataFrame(archive)\n",
    "\n",
    "# dropdown widget \n",
    "dropdown_categories = widgets.Dropdown(\n",
    "    options=list(df['category'].sort_values()),\n",
    "    value=list(df['category'])[0],\n",
    "    description='Categories:',\n",
    "    disabled=False,\n",
    ")\n",
    "\n",
    "display(dropdown_categories)\n",
    "\n",
    "#dataframe eller dictionary "
   ]
  },
  {
   "cell_type": "code",
   "execution_count": 3,
   "id": "895a4ac3",
   "metadata": {
    "scrolled": true
   },
   "outputs": [
    {
     "data": {
      "application/vnd.jupyter.widget-view+json": {
       "model_id": "b8872404f1a741cabfceebb332bdf147",
       "version_major": 2,
       "version_minor": 0
      },
      "text/plain": [
       "Dropdown(description='instrumenttype:', index=9, options=('Doppler lidar', 'Doppler non-scanning cloud radar',…"
      ]
     },
     "metadata": {},
     "output_type": "display_data"
    }
   ],
   "source": [
    "# Vocabulary category values, choose from the above categories and explore the values. \n",
    "\n",
    "category = 'instrumenttype' #Gives all instrument categories\n",
    "#category = 'contentattribute' # Gives all variable categories\n",
    "\n",
    "response = requests.get(\"https://prod-actris-md.nilu.no/Vocabulary/{}\".format(category))  # get all Facilities in metadata archive\n",
    "archive = response.json()\n",
    "df = pd.DataFrame(archive)\n",
    "\n",
    "# dropdown widget \n",
    "dropdown_category = widgets.Dropdown(\n",
    "    options=list(df['label'].sort_values()),\n",
    "    value=list(df['label'])[0],\n",
    "    description='{}:'.format(category),\n",
    "    disabled=False,\n",
    "    \n",
    ")\n",
    "\n",
    "display(dropdown_category)"
   ]
  },
  {
   "cell_type": "code",
   "execution_count": 4,
   "id": "2c370c37",
   "metadata": {},
   "outputs": [
    {
     "data": {
      "application/vnd.jupyter.widget-view+json": {
       "model_id": "24d55e66183242edabcb78f164cb0cf0",
       "version_major": 2,
       "version_minor": 0
      },
      "text/plain": [
       "Dropdown(description='Facilities:', index=951, options=('ACD-C', 'AGH University Krakow', 'AIDAc', 'AIDAd', 'A…"
      ]
     },
     "metadata": {},
     "output_type": "display_data"
    }
   ],
   "source": [
    "# Facilities\n",
    "\n",
    "response = requests.get(\"https://prod-actris-md.nilu.no/Facilities\") # get all countries in metadata archive\n",
    "archive = response.json()\n",
    "df = pd.DataFrame(archive)\n",
    "\n",
    "# dropdown widget \n",
    "dropdown_facilities = widgets.Dropdown(\n",
    "    options=list(df['name'].sort_values()),\n",
    "    value=list(df['name'])[0],\n",
    "    description='Facilities:',\n",
    "    disabled=False,\n",
    "    \n",
    ")\n",
    "\n",
    "display(dropdown_facilities)"
   ]
  },
  {
   "cell_type": "code",
   "execution_count": 5,
   "id": "b47464b9",
   "metadata": {
    "scrolled": true
   },
   "outputs": [
    {
     "data": {
      "text/html": [
       "<div>\n",
       "<style scoped>\n",
       "    .dataframe tbody tr th:only-of-type {\n",
       "        vertical-align: middle;\n",
       "    }\n",
       "\n",
       "    .dataframe tbody tr th {\n",
       "        vertical-align: top;\n",
       "    }\n",
       "\n",
       "    .dataframe thead th {\n",
       "        text-align: right;\n",
       "    }\n",
       "</style>\n",
       "<table border=\"1\" class=\"dataframe\">\n",
       "  <thead>\n",
       "    <tr style=\"text-align: right;\">\n",
       "      <th></th>\n",
       "      <th>num_id</th>\n",
       "      <th>identifier</th>\n",
       "      <th>name</th>\n",
       "      <th>lat</th>\n",
       "      <th>lon</th>\n",
       "      <th>alt</th>\n",
       "      <th>country_code</th>\n",
       "      <th>identifier_type</th>\n",
       "      <th>uri</th>\n",
       "      <th>wmo_region</th>\n",
       "      <th>active</th>\n",
       "      <th>contact_organisation</th>\n",
       "      <th>facility_type</th>\n",
       "      <th>actris_national_facility</th>\n",
       "      <th>actris_nf_uri</th>\n",
       "    </tr>\n",
       "  </thead>\n",
       "  <tbody>\n",
       "    <tr>\n",
       "      <th>0</th>\n",
       "      <td>2489</td>\n",
       "      <td>00LJ</td>\n",
       "      <td>Primorskaya</td>\n",
       "      <td>43.629167</td>\n",
       "      <td>132.236944</td>\n",
       "      <td>85.0</td>\n",
       "      <td>RU</td>\n",
       "      <td>other PID</td>\n",
       "      <td>https://prod-actris-md.nilu.no/facilities/00LJ</td>\n",
       "      <td>NaN</td>\n",
       "      <td>NaN</td>\n",
       "      <td>NaN</td>\n",
       "      <td>NaN</td>\n",
       "      <td>NaN</td>\n",
       "      <td>NaN</td>\n",
       "    </tr>\n",
       "  </tbody>\n",
       "</table>\n",
       "</div>"
      ],
      "text/plain": [
       "   num_id identifier         name        lat         lon   alt country_code  \\\n",
       "0    2489       00LJ  Primorskaya  43.629167  132.236944  85.0           RU   \n",
       "\n",
       "  identifier_type                                             uri wmo_region  \\\n",
       "0       other PID  https://prod-actris-md.nilu.no/facilities/00LJ        NaN   \n",
       "\n",
       "  active contact_organisation facility_type actris_national_facility  \\\n",
       "0    NaN                  NaN           NaN                      NaN   \n",
       "\n",
       "  actris_nf_uri  \n",
       "0           NaN  "
      ]
     },
     "execution_count": 5,
     "metadata": {},
     "output_type": "execute_result"
    }
   ],
   "source": [
    "# Show facility chosen in dropdown menu\n",
    "df[df['name']==dropdown_facilities.value]"
   ]
  },
  {
   "cell_type": "code",
   "execution_count": 7,
   "id": "e77cceb1",
   "metadata": {},
   "outputs": [
    {
     "data": {
      "text/html": [
       "<div>\n",
       "<style scoped>\n",
       "    .dataframe tbody tr th:only-of-type {\n",
       "        vertical-align: middle;\n",
       "    }\n",
       "\n",
       "    .dataframe tbody tr th {\n",
       "        vertical-align: top;\n",
       "    }\n",
       "\n",
       "    .dataframe thead th {\n",
       "        text-align: right;\n",
       "    }\n",
       "</style>\n",
       "<table border=\"1\" class=\"dataframe\">\n",
       "  <thead>\n",
       "    <tr style=\"text-align: right;\">\n",
       "      <th></th>\n",
       "      <th>num_id</th>\n",
       "      <th>identifier</th>\n",
       "      <th>name</th>\n",
       "      <th>lat</th>\n",
       "      <th>lon</th>\n",
       "      <th>alt</th>\n",
       "      <th>country_code</th>\n",
       "      <th>identifier_type</th>\n",
       "      <th>uri</th>\n",
       "      <th>wmo_region</th>\n",
       "      <th>active</th>\n",
       "      <th>contact_organisation</th>\n",
       "      <th>facility_type</th>\n",
       "      <th>actris_national_facility</th>\n",
       "      <th>actris_nf_uri</th>\n",
       "    </tr>\n",
       "  </thead>\n",
       "  <tbody>\n",
       "    <tr>\n",
       "      <th>1</th>\n",
       "      <td>2490</td>\n",
       "      <td>03MW</td>\n",
       "      <td>Hvasser</td>\n",
       "      <td>59.066667</td>\n",
       "      <td>10.433333</td>\n",
       "      <td>35.0</td>\n",
       "      <td>NO</td>\n",
       "      <td>other PID</td>\n",
       "      <td>https://prod-actris-md.nilu.no/facilities/03MW</td>\n",
       "      <td>NaN</td>\n",
       "      <td>NaN</td>\n",
       "      <td>NaN</td>\n",
       "      <td>NaN</td>\n",
       "      <td>NaN</td>\n",
       "      <td>NaN</td>\n",
       "    </tr>\n",
       "    <tr>\n",
       "      <th>5</th>\n",
       "      <td>2494</td>\n",
       "      <td>06HE</td>\n",
       "      <td>Malvik (moss)</td>\n",
       "      <td>63.378300</td>\n",
       "      <td>10.605783</td>\n",
       "      <td>150.0</td>\n",
       "      <td>NO</td>\n",
       "      <td>other PID</td>\n",
       "      <td>https://prod-actris-md.nilu.no/facilities/06HE</td>\n",
       "      <td>NaN</td>\n",
       "      <td>NaN</td>\n",
       "      <td>NaN</td>\n",
       "      <td>NaN</td>\n",
       "      <td>NaN</td>\n",
       "      <td>NaN</td>\n",
       "    </tr>\n",
       "    <tr>\n",
       "      <th>7</th>\n",
       "      <td>313</td>\n",
       "      <td>07oj</td>\n",
       "      <td>Sandve</td>\n",
       "      <td>59.200000</td>\n",
       "      <td>5.200000</td>\n",
       "      <td>15.0</td>\n",
       "      <td>NO</td>\n",
       "      <td>other PID</td>\n",
       "      <td>https://prod-actris-md.nilu.no/facilities/07oj</td>\n",
       "      <td>Europe</td>\n",
       "      <td>NaN</td>\n",
       "      <td>NaN</td>\n",
       "      <td>NaN</td>\n",
       "      <td>NaN</td>\n",
       "      <td>NaN</td>\n",
       "    </tr>\n",
       "    <tr>\n",
       "      <th>10</th>\n",
       "      <td>2499</td>\n",
       "      <td>09GZ</td>\n",
       "      <td>Nordre Osen (moss)</td>\n",
       "      <td>61.321567</td>\n",
       "      <td>11.798717</td>\n",
       "      <td>470.0</td>\n",
       "      <td>NO</td>\n",
       "      <td>other PID</td>\n",
       "      <td>https://prod-actris-md.nilu.no/facilities/09GZ</td>\n",
       "      <td>NaN</td>\n",
       "      <td>NaN</td>\n",
       "      <td>NaN</td>\n",
       "      <td>NaN</td>\n",
       "      <td>NaN</td>\n",
       "      <td>NaN</td>\n",
       "    </tr>\n",
       "    <tr>\n",
       "      <th>12</th>\n",
       "      <td>2501</td>\n",
       "      <td>0AYU</td>\n",
       "      <td>Åsane (moss)</td>\n",
       "      <td>60.493183</td>\n",
       "      <td>5.387733</td>\n",
       "      <td>80.0</td>\n",
       "      <td>NO</td>\n",
       "      <td>other PID</td>\n",
       "      <td>https://prod-actris-md.nilu.no/facilities/0AYU</td>\n",
       "      <td>NaN</td>\n",
       "      <td>NaN</td>\n",
       "      <td>NaN</td>\n",
       "      <td>NaN</td>\n",
       "      <td>NaN</td>\n",
       "      <td>NaN</td>\n",
       "    </tr>\n",
       "    <tr>\n",
       "      <th>...</th>\n",
       "      <td>...</td>\n",
       "      <td>...</td>\n",
       "      <td>...</td>\n",
       "      <td>...</td>\n",
       "      <td>...</td>\n",
       "      <td>...</td>\n",
       "      <td>...</td>\n",
       "      <td>...</td>\n",
       "      <td>...</td>\n",
       "      <td>...</td>\n",
       "      <td>...</td>\n",
       "      <td>...</td>\n",
       "      <td>...</td>\n",
       "      <td>...</td>\n",
       "      <td>...</td>\n",
       "    </tr>\n",
       "    <tr>\n",
       "      <th>1355</th>\n",
       "      <td>3839</td>\n",
       "      <td>ZOS0</td>\n",
       "      <td>Vårli</td>\n",
       "      <td>63.457910</td>\n",
       "      <td>8.604890</td>\n",
       "      <td>40.0</td>\n",
       "      <td>NO</td>\n",
       "      <td>other PID</td>\n",
       "      <td>https://prod-actris-md.nilu.no/facilities/ZOS0</td>\n",
       "      <td>NaN</td>\n",
       "      <td>NaN</td>\n",
       "      <td>NaN</td>\n",
       "      <td>NaN</td>\n",
       "      <td>NaN</td>\n",
       "      <td>NaN</td>\n",
       "    </tr>\n",
       "    <tr>\n",
       "      <th>1356</th>\n",
       "      <td>3840</td>\n",
       "      <td>ZPYU</td>\n",
       "      <td>Eikefjord (moss)</td>\n",
       "      <td>61.616817</td>\n",
       "      <td>5.626817</td>\n",
       "      <td>80.0</td>\n",
       "      <td>NO</td>\n",
       "      <td>other PID</td>\n",
       "      <td>https://prod-actris-md.nilu.no/facilities/ZPYU</td>\n",
       "      <td>NaN</td>\n",
       "      <td>NaN</td>\n",
       "      <td>NaN</td>\n",
       "      <td>NaN</td>\n",
       "      <td>NaN</td>\n",
       "      <td>NaN</td>\n",
       "    </tr>\n",
       "    <tr>\n",
       "      <th>1357</th>\n",
       "      <td>3841</td>\n",
       "      <td>ZQNJ</td>\n",
       "      <td>Ringebu (moss)</td>\n",
       "      <td>61.615333</td>\n",
       "      <td>10.070200</td>\n",
       "      <td>600.0</td>\n",
       "      <td>NO</td>\n",
       "      <td>other PID</td>\n",
       "      <td>https://prod-actris-md.nilu.no/facilities/ZQNJ</td>\n",
       "      <td>NaN</td>\n",
       "      <td>NaN</td>\n",
       "      <td>NaN</td>\n",
       "      <td>NaN</td>\n",
       "      <td>NaN</td>\n",
       "      <td>NaN</td>\n",
       "    </tr>\n",
       "    <tr>\n",
       "      <th>1358</th>\n",
       "      <td>3842</td>\n",
       "      <td>ZR67</td>\n",
       "      <td>Hvittingfoss (moss)</td>\n",
       "      <td>59.509767</td>\n",
       "      <td>9.910867</td>\n",
       "      <td>70.0</td>\n",
       "      <td>NO</td>\n",
       "      <td>other PID</td>\n",
       "      <td>https://prod-actris-md.nilu.no/facilities/ZR67</td>\n",
       "      <td>NaN</td>\n",
       "      <td>NaN</td>\n",
       "      <td>NaN</td>\n",
       "      <td>NaN</td>\n",
       "      <td>NaN</td>\n",
       "      <td>NaN</td>\n",
       "    </tr>\n",
       "    <tr>\n",
       "      <th>1361</th>\n",
       "      <td>1001</td>\n",
       "      <td>zu7v</td>\n",
       "      <td>Ualand</td>\n",
       "      <td>58.516667</td>\n",
       "      <td>6.383333</td>\n",
       "      <td>220.0</td>\n",
       "      <td>NO</td>\n",
       "      <td>other PID</td>\n",
       "      <td>https://prod-actris-md.nilu.no/facilities/zu7v</td>\n",
       "      <td>Europe</td>\n",
       "      <td>NaN</td>\n",
       "      <td>NaN</td>\n",
       "      <td>NaN</td>\n",
       "      <td>NaN</td>\n",
       "      <td>NaN</td>\n",
       "    </tr>\n",
       "  </tbody>\n",
       "</table>\n",
       "<p>324 rows × 15 columns</p>\n",
       "</div>"
      ],
      "text/plain": [
       "      num_id identifier                 name        lat        lon    alt  \\\n",
       "1       2490       03MW              Hvasser  59.066667  10.433333   35.0   \n",
       "5       2494       06HE        Malvik (moss)  63.378300  10.605783  150.0   \n",
       "7        313       07oj               Sandve  59.200000   5.200000   15.0   \n",
       "10      2499       09GZ   Nordre Osen (moss)  61.321567  11.798717  470.0   \n",
       "12      2501       0AYU         Åsane (moss)  60.493183   5.387733   80.0   \n",
       "...      ...        ...                  ...        ...        ...    ...   \n",
       "1355    3839       ZOS0                Vårli  63.457910   8.604890   40.0   \n",
       "1356    3840       ZPYU     Eikefjord (moss)  61.616817   5.626817   80.0   \n",
       "1357    3841       ZQNJ       Ringebu (moss)  61.615333  10.070200  600.0   \n",
       "1358    3842       ZR67  Hvittingfoss (moss)  59.509767   9.910867   70.0   \n",
       "1361    1001       zu7v               Ualand  58.516667   6.383333  220.0   \n",
       "\n",
       "     country_code identifier_type  \\\n",
       "1              NO       other PID   \n",
       "5              NO       other PID   \n",
       "7              NO       other PID   \n",
       "10             NO       other PID   \n",
       "12             NO       other PID   \n",
       "...           ...             ...   \n",
       "1355           NO       other PID   \n",
       "1356           NO       other PID   \n",
       "1357           NO       other PID   \n",
       "1358           NO       other PID   \n",
       "1361           NO       other PID   \n",
       "\n",
       "                                                 uri wmo_region active  \\\n",
       "1     https://prod-actris-md.nilu.no/facilities/03MW        NaN    NaN   \n",
       "5     https://prod-actris-md.nilu.no/facilities/06HE        NaN    NaN   \n",
       "7     https://prod-actris-md.nilu.no/facilities/07oj     Europe    NaN   \n",
       "10    https://prod-actris-md.nilu.no/facilities/09GZ        NaN    NaN   \n",
       "12    https://prod-actris-md.nilu.no/facilities/0AYU        NaN    NaN   \n",
       "...                                              ...        ...    ...   \n",
       "1355  https://prod-actris-md.nilu.no/facilities/ZOS0        NaN    NaN   \n",
       "1356  https://prod-actris-md.nilu.no/facilities/ZPYU        NaN    NaN   \n",
       "1357  https://prod-actris-md.nilu.no/facilities/ZQNJ        NaN    NaN   \n",
       "1358  https://prod-actris-md.nilu.no/facilities/ZR67        NaN    NaN   \n",
       "1361  https://prod-actris-md.nilu.no/facilities/zu7v     Europe    NaN   \n",
       "\n",
       "     contact_organisation facility_type actris_national_facility actris_nf_uri  \n",
       "1                     NaN           NaN                      NaN           NaN  \n",
       "5                     NaN           NaN                      NaN           NaN  \n",
       "7                     NaN           NaN                      NaN           NaN  \n",
       "10                    NaN           NaN                      NaN           NaN  \n",
       "12                    NaN           NaN                      NaN           NaN  \n",
       "...                   ...           ...                      ...           ...  \n",
       "1355                  NaN           NaN                      NaN           NaN  \n",
       "1356                  NaN           NaN                      NaN           NaN  \n",
       "1357                  NaN           NaN                      NaN           NaN  \n",
       "1358                  NaN           NaN                      NaN           NaN  \n",
       "1361                  NaN           NaN                      NaN           NaN  \n",
       "\n",
       "[324 rows x 15 columns]"
      ]
     },
     "execution_count": 7,
     "metadata": {},
     "output_type": "execute_result"
    }
   ],
   "source": [
    "# show all metadata for norwegian facilities \n",
    "facilities_norway = df[df['country_code']=='NO'] #select norwegian facilities\n",
    "facilities_norway # show archive as table "
   ]
  },
  {
   "cell_type": "code",
   "execution_count": 8,
   "id": "7a94fb67",
   "metadata": {},
   "outputs": [
    {
     "data": {
      "application/vnd.jupyter.widget-view+json": {
       "model_id": "5740838ce04446228123791e80bb8d6f",
       "version_major": 2,
       "version_minor": 0
      },
      "text/plain": [
       "Dropdown(description='Providers:', index=7, options=('ARES', 'ASC', 'CLU', 'DVAS', 'GRES', 'IN-SITU', 'Norwegi…"
      ]
     },
     "metadata": {},
     "output_type": "display_data"
    }
   ],
   "source": [
    "response = requests.get(\"https://prod-actris-md.nilu.no/Providers\") # get all networks in metadata archive\n",
    "archive = response.json()\n",
    "df = pd.DataFrame(archive)\n",
    "\n",
    "# dropdown widget\n",
    "dropdown_providers = widgets.Dropdown(\n",
    "    options=list(df['name'].sort_values()),\n",
    "    value=list(df['name'])[0],\n",
    "    description='Providers:',\n",
    "    disabled=False,\n",
    ")\n",
    "\n",
    "display(dropdown_providers)"
   ]
  },
  {
   "cell_type": "code",
   "execution_count": 10,
   "id": "5c245a19",
   "metadata": {},
   "outputs": [
    {
     "data": {
      "text/html": [
       "<div>\n",
       "<style scoped>\n",
       "    .dataframe tbody tr th:only-of-type {\n",
       "        vertical-align: middle;\n",
       "    }\n",
       "\n",
       "    .dataframe tbody tr th {\n",
       "        vertical-align: top;\n",
       "    }\n",
       "\n",
       "    .dataframe thead th {\n",
       "        text-align: right;\n",
       "    }\n",
       "</style>\n",
       "<table border=\"1\" class=\"dataframe\">\n",
       "  <thead>\n",
       "    <tr style=\"text-align: right;\">\n",
       "      <th></th>\n",
       "      <th>id</th>\n",
       "      <th>name</th>\n",
       "      <th>acronym</th>\n",
       "      <th>description</th>\n",
       "      <th>created</th>\n",
       "    </tr>\n",
       "  </thead>\n",
       "  <tbody>\n",
       "    <tr>\n",
       "      <th>5</th>\n",
       "      <td>12</td>\n",
       "      <td>ASC</td>\n",
       "      <td>ASC</td>\n",
       "      <td>ACTRIS Atmospheric simulation chamber data cen...</td>\n",
       "      <td>2020-06-29T07:12:33.9845710Z</td>\n",
       "    </tr>\n",
       "  </tbody>\n",
       "</table>\n",
       "</div>"
      ],
      "text/plain": [
       "   id name acronym                                        description  \\\n",
       "5  12  ASC     ASC  ACTRIS Atmospheric simulation chamber data cen...   \n",
       "\n",
       "                        created  \n",
       "5  2020-06-29T07:12:33.9845710Z  "
      ]
     },
     "execution_count": 10,
     "metadata": {},
     "output_type": "execute_result"
    }
   ],
   "source": [
    "df[df['name']==dropdown_providers.value]"
   ]
  },
  {
   "cell_type": "markdown",
   "id": "10074aa0",
   "metadata": {},
   "source": [
    "## Accessing metadata\n",
    "\n",
    "The full ACTRIS metadata catalog can be accessed with https://prod-actris-md.nilu.no/Metadata/, but(!) this can take a bit of time. Therefore its best search using the available search elements such as instrument, country, station, provider etc. \n"
   ]
  },
  {
   "cell_type": "code",
   "execution_count": 1,
   "id": "ec8edcef",
   "metadata": {},
   "outputs": [
    {
     "ename": "NameError",
     "evalue": "name 'requests' is not defined",
     "output_type": "error",
     "traceback": [
      "\u001b[0;31m---------------------------------------------------------------------------\u001b[0m",
      "\u001b[0;31mNameError\u001b[0m                                 Traceback (most recent call last)",
      "Cell \u001b[0;32mIn[1], line 2\u001b[0m\n\u001b[1;32m      1\u001b[0m \u001b[38;5;66;03m# get all metadata in catalogue \u001b[39;00m\n\u001b[0;32m----> 2\u001b[0m response \u001b[38;5;241m=\u001b[39m \u001b[43mrequests\u001b[49m\u001b[38;5;241m.\u001b[39mget(\u001b[38;5;124m\"\u001b[39m\u001b[38;5;124mhttps://prod-actris-md.nilu.no/Metadata/\u001b[39m\u001b[38;5;124m\"\u001b[39m) \n\u001b[1;32m      3\u001b[0m metadata_archive \u001b[38;5;241m=\u001b[39m response\u001b[38;5;241m.\u001b[39mjson()\n",
      "\u001b[0;31mNameError\u001b[0m: name 'requests' is not defined"
     ]
    }
   ],
   "source": [
    "# get all metadata in catalogue \n",
    "response = requests.get(\"https://prod-actris-md.nilu.no/Metadata/\") \n",
    "metadata_archive = response.json() "
   ]
  },
  {
   "cell_type": "code",
   "execution_count": 11,
   "id": "4b72f8a1",
   "metadata": {
    "scrolled": true
   },
   "outputs": [
    {
     "ename": "NameError",
     "evalue": "name 'metadata_archive' is not defined",
     "output_type": "error",
     "traceback": [
      "\u001b[0;31m---------------------------------------------------------------------------\u001b[0m",
      "\u001b[0;31mNameError\u001b[0m                                 Traceback (most recent call last)",
      "Cell \u001b[0;32mIn[11], line 1\u001b[0m\n\u001b[0;32m----> 1\u001b[0m \u001b[43mmetadata_archive\u001b[49m[\u001b[38;5;241m0\u001b[39m]\n",
      "\u001b[0;31mNameError\u001b[0m: name 'metadata_archive' is not defined"
     ]
    }
   ],
   "source": [
    "metadata_archive[0] # show metadata"
   ]
  },
  {
   "cell_type": "code",
   "execution_count": null,
   "metadata": {},
   "outputs": [
    {
     "ename": "JSONDecodeError",
     "evalue": "Expecting value: line 1 column 1 (char 0)",
     "output_type": "error",
     "traceback": [
      "\u001b[0;31m---------------------------------------------------------------------------\u001b[0m",
      "\u001b[0;31mJSONDecodeError\u001b[0m                           Traceback (most recent call last)",
      "File \u001b[0;32m~/anaconda3/lib/python3.9/site-packages/requests/models.py:971\u001b[0m, in \u001b[0;36mResponse.json\u001b[0;34m(self, **kwargs)\u001b[0m\n\u001b[1;32m    970\u001b[0m \u001b[38;5;28;01mtry\u001b[39;00m:\n\u001b[0;32m--> 971\u001b[0m     \u001b[38;5;28;01mreturn\u001b[39;00m \u001b[43mcomplexjson\u001b[49m\u001b[38;5;241;43m.\u001b[39;49m\u001b[43mloads\u001b[49m\u001b[43m(\u001b[49m\u001b[38;5;28;43mself\u001b[39;49m\u001b[38;5;241;43m.\u001b[39;49m\u001b[43mtext\u001b[49m\u001b[43m,\u001b[49m\u001b[43m \u001b[49m\u001b[38;5;241;43m*\u001b[39;49m\u001b[38;5;241;43m*\u001b[39;49m\u001b[43mkwargs\u001b[49m\u001b[43m)\u001b[49m\n\u001b[1;32m    972\u001b[0m \u001b[38;5;28;01mexcept\u001b[39;00m JSONDecodeError \u001b[38;5;28;01mas\u001b[39;00m e:\n\u001b[1;32m    973\u001b[0m     \u001b[38;5;66;03m# Catch JSON-related errors and raise as requests.JSONDecodeError\u001b[39;00m\n\u001b[1;32m    974\u001b[0m     \u001b[38;5;66;03m# This aliases json.JSONDecodeError and simplejson.JSONDecodeError\u001b[39;00m\n",
      "File \u001b[0;32m~/anaconda3/lib/python3.9/json/__init__.py:346\u001b[0m, in \u001b[0;36mloads\u001b[0;34m(s, cls, object_hook, parse_float, parse_int, parse_constant, object_pairs_hook, **kw)\u001b[0m\n\u001b[1;32m    343\u001b[0m \u001b[38;5;28;01mif\u001b[39;00m (\u001b[38;5;28mcls\u001b[39m \u001b[38;5;129;01mis\u001b[39;00m \u001b[38;5;28;01mNone\u001b[39;00m \u001b[38;5;129;01mand\u001b[39;00m object_hook \u001b[38;5;129;01mis\u001b[39;00m \u001b[38;5;28;01mNone\u001b[39;00m \u001b[38;5;129;01mand\u001b[39;00m\n\u001b[1;32m    344\u001b[0m         parse_int \u001b[38;5;129;01mis\u001b[39;00m \u001b[38;5;28;01mNone\u001b[39;00m \u001b[38;5;129;01mand\u001b[39;00m parse_float \u001b[38;5;129;01mis\u001b[39;00m \u001b[38;5;28;01mNone\u001b[39;00m \u001b[38;5;129;01mand\u001b[39;00m\n\u001b[1;32m    345\u001b[0m         parse_constant \u001b[38;5;129;01mis\u001b[39;00m \u001b[38;5;28;01mNone\u001b[39;00m \u001b[38;5;129;01mand\u001b[39;00m object_pairs_hook \u001b[38;5;129;01mis\u001b[39;00m \u001b[38;5;28;01mNone\u001b[39;00m \u001b[38;5;129;01mand\u001b[39;00m \u001b[38;5;129;01mnot\u001b[39;00m kw):\n\u001b[0;32m--> 346\u001b[0m     \u001b[38;5;28;01mreturn\u001b[39;00m \u001b[43m_default_decoder\u001b[49m\u001b[38;5;241;43m.\u001b[39;49m\u001b[43mdecode\u001b[49m\u001b[43m(\u001b[49m\u001b[43ms\u001b[49m\u001b[43m)\u001b[49m\n\u001b[1;32m    347\u001b[0m \u001b[38;5;28;01mif\u001b[39;00m \u001b[38;5;28mcls\u001b[39m \u001b[38;5;129;01mis\u001b[39;00m \u001b[38;5;28;01mNone\u001b[39;00m:\n",
      "File \u001b[0;32m~/anaconda3/lib/python3.9/json/decoder.py:337\u001b[0m, in \u001b[0;36mJSONDecoder.decode\u001b[0;34m(self, s, _w)\u001b[0m\n\u001b[1;32m    333\u001b[0m \u001b[38;5;250m\u001b[39m\u001b[38;5;124;03m\"\"\"Return the Python representation of ``s`` (a ``str`` instance\u001b[39;00m\n\u001b[1;32m    334\u001b[0m \u001b[38;5;124;03mcontaining a JSON document).\u001b[39;00m\n\u001b[1;32m    335\u001b[0m \n\u001b[1;32m    336\u001b[0m \u001b[38;5;124;03m\"\"\"\u001b[39;00m\n\u001b[0;32m--> 337\u001b[0m obj, end \u001b[38;5;241m=\u001b[39m \u001b[38;5;28;43mself\u001b[39;49m\u001b[38;5;241;43m.\u001b[39;49m\u001b[43mraw_decode\u001b[49m\u001b[43m(\u001b[49m\u001b[43ms\u001b[49m\u001b[43m,\u001b[49m\u001b[43m \u001b[49m\u001b[43midx\u001b[49m\u001b[38;5;241;43m=\u001b[39;49m\u001b[43m_w\u001b[49m\u001b[43m(\u001b[49m\u001b[43ms\u001b[49m\u001b[43m,\u001b[49m\u001b[43m \u001b[49m\u001b[38;5;241;43m0\u001b[39;49m\u001b[43m)\u001b[49m\u001b[38;5;241;43m.\u001b[39;49m\u001b[43mend\u001b[49m\u001b[43m(\u001b[49m\u001b[43m)\u001b[49m\u001b[43m)\u001b[49m\n\u001b[1;32m    338\u001b[0m end \u001b[38;5;241m=\u001b[39m _w(s, end)\u001b[38;5;241m.\u001b[39mend()\n",
      "File \u001b[0;32m~/anaconda3/lib/python3.9/json/decoder.py:355\u001b[0m, in \u001b[0;36mJSONDecoder.raw_decode\u001b[0;34m(self, s, idx)\u001b[0m\n\u001b[1;32m    354\u001b[0m \u001b[38;5;28;01mexcept\u001b[39;00m \u001b[38;5;167;01mStopIteration\u001b[39;00m \u001b[38;5;28;01mas\u001b[39;00m err:\n\u001b[0;32m--> 355\u001b[0m     \u001b[38;5;28;01mraise\u001b[39;00m JSONDecodeError(\u001b[38;5;124m\"\u001b[39m\u001b[38;5;124mExpecting value\u001b[39m\u001b[38;5;124m\"\u001b[39m, s, err\u001b[38;5;241m.\u001b[39mvalue) \u001b[38;5;28;01mfrom\u001b[39;00m \u001b[38;5;28;01mNone\u001b[39;00m\n\u001b[1;32m    356\u001b[0m \u001b[38;5;28;01mreturn\u001b[39;00m obj, end\n",
      "\u001b[0;31mJSONDecodeError\u001b[0m: Expecting value: line 1 column 1 (char 0)",
      "\nDuring handling of the above exception, another exception occurred:\n",
      "\u001b[0;31mJSONDecodeError\u001b[0m                           Traceback (most recent call last)",
      "Cell \u001b[0;32mIn[30], line 3\u001b[0m\n\u001b[1;32m      1\u001b[0m \u001b[38;5;66;03m# get all metadata from station Birkenes II (9cxe) in catalogue \u001b[39;00m\n\u001b[1;32m      2\u001b[0m response \u001b[38;5;241m=\u001b[39m requests\u001b[38;5;241m.\u001b[39mget(\u001b[38;5;124m\"\u001b[39m\u001b[38;5;124mhttps://prod-actris-md.nilu.no/Metadata/facility/9cxe\u001b[39m\u001b[38;5;124m\"\u001b[39m) \n\u001b[0;32m----> 3\u001b[0m metadata_archive \u001b[38;5;241m=\u001b[39m \u001b[43mresponse\u001b[49m\u001b[38;5;241;43m.\u001b[39;49m\u001b[43mjson\u001b[49m\u001b[43m(\u001b[49m\u001b[43m)\u001b[49m \n\u001b[1;32m      4\u001b[0m metadata_archive\n",
      "File \u001b[0;32m~/anaconda3/lib/python3.9/site-packages/requests/models.py:975\u001b[0m, in \u001b[0;36mResponse.json\u001b[0;34m(self, **kwargs)\u001b[0m\n\u001b[1;32m    971\u001b[0m     \u001b[38;5;28;01mreturn\u001b[39;00m complexjson\u001b[38;5;241m.\u001b[39mloads(\u001b[38;5;28mself\u001b[39m\u001b[38;5;241m.\u001b[39mtext, \u001b[38;5;241m*\u001b[39m\u001b[38;5;241m*\u001b[39mkwargs)\n\u001b[1;32m    972\u001b[0m \u001b[38;5;28;01mexcept\u001b[39;00m JSONDecodeError \u001b[38;5;28;01mas\u001b[39;00m e:\n\u001b[1;32m    973\u001b[0m     \u001b[38;5;66;03m# Catch JSON-related errors and raise as requests.JSONDecodeError\u001b[39;00m\n\u001b[1;32m    974\u001b[0m     \u001b[38;5;66;03m# This aliases json.JSONDecodeError and simplejson.JSONDecodeError\u001b[39;00m\n\u001b[0;32m--> 975\u001b[0m     \u001b[38;5;28;01mraise\u001b[39;00m RequestsJSONDecodeError(e\u001b[38;5;241m.\u001b[39mmsg, e\u001b[38;5;241m.\u001b[39mdoc, e\u001b[38;5;241m.\u001b[39mpos)\n",
      "\u001b[0;31mJSONDecodeError\u001b[0m: Expecting value: line 1 column 1 (char 0)"
     ]
    }
   ],
   "source": [
    "# get all metadata from station Birkenes II (9cxe) in catalogue \n",
    "response = requests.get(\"https://prod-actris-md.nilu.no/Metadata/facility/9cxe\") \n",
    "metadata_archive = response.json() \n",
    "metadata_archive # show metadata"
   ]
  },
  {
   "cell_type": "code",
   "execution_count": null,
   "id": "b4790e41",
   "metadata": {},
   "outputs": [
    {
     "ename": "NameError",
     "evalue": "name 'metadata_archive' is not defined",
     "output_type": "error",
     "traceback": [
      "\u001b[0;31m---------------------------------------------------------------------------\u001b[0m",
      "\u001b[0;31mNameError\u001b[0m                                 Traceback (most recent call last)",
      "Cell \u001b[0;32mIn[9], line 4\u001b[0m\n\u001b[1;32m      1\u001b[0m \u001b[38;5;66;03m# Each metadata element consists of a dictionary with keys shown in the dropdown menu\u001b[39;00m\n\u001b[1;32m      3\u001b[0m dropdown_md_elements \u001b[38;5;241m=\u001b[39m widgets\u001b[38;5;241m.\u001b[39mDropdown(\n\u001b[0;32m----> 4\u001b[0m     options\u001b[38;5;241m=\u001b[39m\u001b[38;5;28mlist\u001b[39m(\u001b[43mmetadata_archive\u001b[49m[\u001b[38;5;241m0\u001b[39m]\u001b[38;5;241m.\u001b[39mkeys()),\n\u001b[1;32m      5\u001b[0m     value\u001b[38;5;241m=\u001b[39m\u001b[38;5;28mlist\u001b[39m(metadata_archive[\u001b[38;5;241m0\u001b[39m]\u001b[38;5;241m.\u001b[39mkeys())[\u001b[38;5;241m0\u001b[39m],\n\u001b[1;32m      6\u001b[0m     description\u001b[38;5;241m=\u001b[39m\u001b[38;5;124m'\u001b[39m\u001b[38;5;124m'\u001b[39m,\n\u001b[1;32m      7\u001b[0m     disabled\u001b[38;5;241m=\u001b[39m\u001b[38;5;28;01mFalse\u001b[39;00m,\n\u001b[1;32m      8\u001b[0m )\n\u001b[1;32m     10\u001b[0m dropdown_md_elements\n",
      "\u001b[0;31mNameError\u001b[0m: name 'metadata_archive' is not defined"
     ]
    }
   ],
   "source": [
    "# Each metadata element consists of a dictionary with keys shown in the dropdown menu\n",
    "\n",
    "dropdown_md_elements = widgets.Dropdown(\n",
    "    options=list(metadata_archive[0].keys()),\n",
    "    value=list(metadata_archive[0].keys())[0],\n",
    "    description='',\n",
    "    disabled=False,\n",
    ")\n",
    "\n",
    "dropdown_md_elements"
   ]
  },
  {
   "cell_type": "code",
   "execution_count": null,
   "id": "2ce05ee4",
   "metadata": {},
   "outputs": [
    {
     "data": {
      "text/plain": [
       "{'id': 203849,\n",
       " 'provider': {'name': 'IN-SITU', 'atom': 'http://localhost:5009/providers/14'},\n",
       " 'file_identifier': 'P3HD-KWCT.nc',\n",
       " 'language': 'en',\n",
       " 'hierarchy_level': 'dataset',\n",
       " 'online_resource': {'linkage': 'http://ebas.nilu.no/'},\n",
       " 'datestamp': '2024-06-13T22:00:00.0000000Z',\n",
       " 'created': '2024-06-14T08:17:20.0000000Z',\n",
       " 'contact': [{'first_name': 'Markus',\n",
       "   'last_name': 'Fiebig',\n",
       "   'organisation_name': 'NILU',\n",
       "   'role_code': ['custodian'],\n",
       "   'country_code': 'NO',\n",
       "   'delivery_point': 'Instituttveien 18',\n",
       "   'address_city': 'Kjeller',\n",
       "   'administrative_area': 'Viken',\n",
       "   'postal_code': 2007,\n",
       "   'email': 'ebas@nilu.no',\n",
       "   'position_name': 'Senior Scientist'}]}"
      ]
     },
     "execution_count": 20,
     "metadata": {},
     "output_type": "execute_result"
    }
   ],
   "source": [
    "metadata_archive[0][dropdown_md_elements.value]"
   ]
  },
  {
   "cell_type": "code",
   "execution_count": null,
   "id": "928c5b84",
   "metadata": {},
   "outputs": [
    {
     "data": {
      "text/plain": [
       "id                                                            203849\n",
       "provider           {'name': 'IN-SITU', 'atom': 'http://localhost:...\n",
       "file_identifier                                         P3HD-KWCT.nc\n",
       "language                                                          en\n",
       "hierarchy_level                                              dataset\n",
       "online_resource                  {'linkage': 'http://ebas.nilu.no/'}\n",
       "datestamp                               2024-06-13T22:00:00.0000000Z\n",
       "created                                 2024-06-14T08:17:20.0000000Z\n",
       "contact            [{'first_name': 'Markus', 'last_name': 'Fiebig...\n",
       "Name: 0, dtype: object"
      ]
     },
     "execution_count": 21,
     "metadata": {},
     "output_type": "execute_result"
    }
   ],
   "source": [
    "# Most of these keys consists of a new dictonary with metadata information. \n",
    "# An example is md_metadata \n",
    "md_list = []\n",
    "for f in metadata_archive:\n",
    "    md_list.append(f['md_metadata']) \n",
    "df_md_metadata = pd.DataFrame.from_records(md_list)\n",
    "\n",
    "df_md_metadata.iloc[0] #only show first element in list of metadata"
   ]
  },
  {
   "cell_type": "code",
   "execution_count": null,
   "id": "3ffe108c",
   "metadata": {
    "scrolled": true
   },
   "outputs": [
    {
     "data": {
      "text/plain": [
       "[{'first_name': 'Markus',\n",
       "  'last_name': 'Fiebig',\n",
       "  'organisation_name': 'NILU',\n",
       "  'role_code': ['custodian'],\n",
       "  'country_code': 'NO',\n",
       "  'delivery_point': 'Instituttveien 18',\n",
       "  'address_city': 'Kjeller',\n",
       "  'administrative_area': 'Viken',\n",
       "  'postal_code': 2007,\n",
       "  'email': 'ebas@nilu.no',\n",
       "  'position_name': 'Senior Scientist'}]"
      ]
     },
     "execution_count": 22,
     "metadata": {},
     "output_type": "execute_result"
    }
   ],
   "source": [
    "# Above the column 'contact' includes more information about a contact person for each dataset. \n",
    "\n",
    "df_md_metadata.iloc[0]['contact'] # show contact information for first dataset"
   ]
  },
  {
   "cell_type": "code",
   "execution_count": null,
   "metadata": {},
   "outputs": [
    {
     "data": {
      "text/html": [
       "<div>\n",
       "<style scoped>\n",
       "    .dataframe tbody tr th:only-of-type {\n",
       "        vertical-align: middle;\n",
       "    }\n",
       "\n",
       "    .dataframe tbody tr th {\n",
       "        vertical-align: top;\n",
       "    }\n",
       "\n",
       "    .dataframe thead th {\n",
       "        text-align: right;\n",
       "    }\n",
       "</style>\n",
       "<table border=\"1\" class=\"dataframe\">\n",
       "  <thead>\n",
       "    <tr style=\"text-align: right;\">\n",
       "      <th></th>\n",
       "      <th>attribute_descriptions</th>\n",
       "      <th>content_type</th>\n",
       "    </tr>\n",
       "  </thead>\n",
       "  <tbody>\n",
       "    <tr>\n",
       "      <th>0</th>\n",
       "      <td>[aerosol particle mass concentration]</td>\n",
       "      <td>physicalMeasurement</td>\n",
       "    </tr>\n",
       "    <tr>\n",
       "      <th>1</th>\n",
       "      <td>[aerosol particle light absorption coefficient]</td>\n",
       "      <td>physicalMeasurement</td>\n",
       "    </tr>\n",
       "    <tr>\n",
       "      <th>2</th>\n",
       "      <td>[aerosol particle light absorption coefficient]</td>\n",
       "      <td>physicalMeasurement</td>\n",
       "    </tr>\n",
       "    <tr>\n",
       "      <th>3</th>\n",
       "      <td>[aerosol particle light absorption coefficient]</td>\n",
       "      <td>physicalMeasurement</td>\n",
       "    </tr>\n",
       "    <tr>\n",
       "      <th>4</th>\n",
       "      <td>[aerosol particle light absorption coefficient]</td>\n",
       "      <td>physicalMeasurement</td>\n",
       "    </tr>\n",
       "    <tr>\n",
       "      <th>...</th>\n",
       "      <td>...</td>\n",
       "      <td>...</td>\n",
       "    </tr>\n",
       "    <tr>\n",
       "      <th>105</th>\n",
       "      <td>[aerosol particle elemental carbon mass concen...</td>\n",
       "      <td>physicalMeasurement</td>\n",
       "    </tr>\n",
       "    <tr>\n",
       "      <th>106</th>\n",
       "      <td>[ozone mass concentration]</td>\n",
       "      <td>physicalMeasurement</td>\n",
       "    </tr>\n",
       "    <tr>\n",
       "      <th>107</th>\n",
       "      <td>[hydrogen amount fraction]</td>\n",
       "      <td>physicalMeasurement</td>\n",
       "    </tr>\n",
       "    <tr>\n",
       "      <th>108</th>\n",
       "      <td>[aerosol particle aluminium mass concentration...</td>\n",
       "      <td>physicalMeasurement</td>\n",
       "    </tr>\n",
       "    <tr>\n",
       "      <th>109</th>\n",
       "      <td>[gaseous elemental mercury mass concentration]</td>\n",
       "      <td>physicalMeasurement</td>\n",
       "    </tr>\n",
       "  </tbody>\n",
       "</table>\n",
       "<p>110 rows × 2 columns</p>\n",
       "</div>"
      ],
      "text/plain": [
       "                                attribute_descriptions         content_type\n",
       "0                [aerosol particle mass concentration]  physicalMeasurement\n",
       "1      [aerosol particle light absorption coefficient]  physicalMeasurement\n",
       "2      [aerosol particle light absorption coefficient]  physicalMeasurement\n",
       "3      [aerosol particle light absorption coefficient]  physicalMeasurement\n",
       "4      [aerosol particle light absorption coefficient]  physicalMeasurement\n",
       "..                                                 ...                  ...\n",
       "105  [aerosol particle elemental carbon mass concen...  physicalMeasurement\n",
       "106                         [ozone mass concentration]  physicalMeasurement\n",
       "107                         [hydrogen amount fraction]  physicalMeasurement\n",
       "108  [aerosol particle aluminium mass concentration...  physicalMeasurement\n",
       "109     [gaseous elemental mercury mass concentration]  physicalMeasurement\n",
       "\n",
       "[110 rows x 2 columns]"
      ]
     },
     "execution_count": 23,
     "metadata": {},
     "output_type": "execute_result"
    }
   ],
   "source": [
    "# Another example of extracting metadata, here the content information.\n",
    "files_list = []\n",
    "for f in metadata_archive:\n",
    "    url = f['md_content_information']\n",
    "    files_list.append(url)\n",
    "    \n",
    "df_content_information = pd.DataFrame.from_records(files_list)\n",
    "# Displays the content information for all datasets from Birkenes II \n",
    "df_content_information \n"
   ]
  },
  {
   "cell_type": "code",
   "execution_count": null,
   "id": "6ef20ee6",
   "metadata": {},
   "outputs": [
    {
     "data": {
      "text/plain": [
       "data_format                                                       NETCDF\n",
       "version_data_format                                                    4\n",
       "dataset_url            https://thredds.nilu.no/thredds/dodsC/ebas_doi...\n",
       "protocol                                                         OPeNDAP\n",
       "function                                                       streaming\n",
       "restriction                                               {'set': False}\n",
       "transfersize                                                   2143439.0\n",
       "Name: 0, dtype: object"
      ]
     },
     "execution_count": 24,
     "metadata": {},
     "output_type": "execute_result"
    }
   ],
   "source": [
    "# Another example of extracting metadata, here the distribution information.\n",
    "# The distribution information includes data format, dataset url, protocol, restrictions and more.\n",
    "\n",
    "files_list = []\n",
    "for f in metadata_archive:\n",
    "    url = f['md_distribution_information'][0]\n",
    "    files_list.append(url)\n",
    "    \n",
    "df_distribution_information = pd.DataFrame.from_records(files_list)\n",
    "df_distribution_information.iloc[0] #show the distribution information for the first dataset. \n",
    "# If you wish to see distribution information about all Birkenes II datasets, remove .iloc[0]"
   ]
  }
 ],
 "metadata": {
  "kernelspec": {
   "display_name": "base",
   "language": "python",
   "name": "python3"
  },
  "language_info": {
   "codemirror_mode": {
    "name": "ipython",
    "version": 3
   },
   "file_extension": ".py",
   "mimetype": "text/x-python",
   "name": "python",
   "nbconvert_exporter": "python",
   "pygments_lexer": "ipython3",
   "version": "3.9.16"
  }
 },
 "nbformat": 4,
 "nbformat_minor": 5
}
