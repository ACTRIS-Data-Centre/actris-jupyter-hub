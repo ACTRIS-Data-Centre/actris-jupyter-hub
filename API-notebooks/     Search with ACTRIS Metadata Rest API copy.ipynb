{
 "cells": [
  {
   "cell_type": "markdown",
   "id": "baf962db",
   "metadata": {},
   "source": [
    "<img src='https://www.actris.eu/sites/default/files/inline-images/Actris%20logo.png' width=200 align=right>\n",
    "\n",
    "# ACTRIS DC \n",
    "## Search with ACTRIS Metadata Rest API "
   ]
  },
  {
   "cell_type": "markdown",
   "id": "5ce62432",
   "metadata": {},
   "source": [
    "The goal of this notebook is to provide a guide on how to access data through the ACTRIS Metadata Rest API. This is a machine to machine approch to accessing data and is suited when you plan to access large amounts of data or only want to use a programming interface to access data. \n",
    "\n",
    "Let's get started!"
   ]
  },
  {
   "cell_type": "markdown",
   "id": "3385e517",
   "metadata": {},
   "source": [
    "### Using ACTRIS metadata catalog REST API\n",
    "\n",
    "ACTRIS metadata catalog REST API: https://prod-actris-md.nilu.no/index.html\n",
    "\n",
    "The ACTRIS Rest API uses the ACTRIS vocabulary for several of the search criteria, the vocabulary can be found here: https://vocabulary.actris.nilu.no/skosmos/actris_vocab/en/\n",
    "\n",
    "\n",
    "\n",
    "**NB!** The ACTRIS REST API is currently undergoing upgrades and so you might experience some time-outs. "
   ]
  },
  {
   "cell_type": "markdown",
   "id": "0d1d3f44",
   "metadata": {},
   "source": [
    "### Import libraries"
   ]
  },
  {
   "cell_type": "code",
   "execution_count": 39,
   "id": "a4ec45b0",
   "metadata": {},
   "outputs": [],
   "source": [
    "# Library for working with multi-dimensional arrays \n",
    "import pandas as pd\n",
    "\n",
    "# Libraries for working with JSON files, making HTTP requests, and handling file system operations\n",
    "import json\n",
    "import requests\n",
    "import os\n",
    "\n",
    "# Libary for creating python widgets\n",
    "import ipywidgets as widgets\n",
    "\n",
    "# Library for creating interactive plots\n",
    "import plotly.express as px"
   ]
  },
  {
   "cell_type": "markdown",
   "id": "3e81d375",
   "metadata": {},
   "source": [
    "## Browse the metadata archive\n",
    "\n",
    "### Vocabulary categories\n",
    "\n",
    "This is an example of how to browse and get used to the ACTRIS Rest API metadata catalog and each search elements. First of we have a look at the vocabulary categories that are defined in the API. "
   ]
  },
  {
   "cell_type": "code",
   "execution_count": 9,
   "id": "886ad2ce",
   "metadata": {},
   "outputs": [
    {
     "data": {
      "text/html": [
       "<div>\n",
       "<style scoped>\n",
       "    .dataframe tbody tr th:only-of-type {\n",
       "        vertical-align: middle;\n",
       "    }\n",
       "\n",
       "    .dataframe tbody tr th {\n",
       "        vertical-align: top;\n",
       "    }\n",
       "\n",
       "    .dataframe thead th {\n",
       "        text-align: right;\n",
       "    }\n",
       "</style>\n",
       "<table border=\"1\" class=\"dataframe\">\n",
       "  <thead>\n",
       "    <tr style=\"text-align: right;\">\n",
       "      <th></th>\n",
       "      <th>category</th>\n",
       "      <th>synchronized</th>\n",
       "    </tr>\n",
       "  </thead>\n",
       "  <tbody>\n",
       "    <tr>\n",
       "      <th>0</th>\n",
       "      <td>compliance</td>\n",
       "      <td>True</td>\n",
       "    </tr>\n",
       "    <tr>\n",
       "      <th>1</th>\n",
       "      <td>constrainttype</td>\n",
       "      <td>False</td>\n",
       "    </tr>\n",
       "    <tr>\n",
       "      <th>2</th>\n",
       "      <td>contentattribute</td>\n",
       "      <td>True</td>\n",
       "    </tr>\n",
       "    <tr>\n",
       "      <th>3</th>\n",
       "      <td>contenttype</td>\n",
       "      <td>False</td>\n",
       "    </tr>\n",
       "    <tr>\n",
       "      <th>4</th>\n",
       "      <td>dataprotocol</td>\n",
       "      <td>False</td>\n",
       "    </tr>\n",
       "  </tbody>\n",
       "</table>\n",
       "</div>"
      ],
      "text/plain": [
       "           category  synchronized\n",
       "0        compliance          True\n",
       "1    constrainttype         False\n",
       "2  contentattribute          True\n",
       "3       contenttype         False\n",
       "4      dataprotocol         False"
      ]
     },
     "execution_count": 9,
     "metadata": {},
     "output_type": "execute_result"
    }
   ],
   "source": [
    "response = requests.get(\"https://prod-actris-md.nilu.no/Vocabulary/categories\") # get all countries in metadata archive\n",
    "archive = response.json()\n",
    "df = pd.DataFrame(archive)\n",
    "df.head() # '.head()' displays the first 5 elements, if you want to see more, you can specify the number of elements you want to see or just use 'df'"
   ]
  },
  {
   "cell_type": "code",
   "execution_count": 10,
   "id": "14f35ceb",
   "metadata": {},
   "outputs": [
    {
     "data": {
      "application/vnd.jupyter.widget-view+json": {
       "model_id": "31c86fbf7bb1463fb38c28f3def17daf",
       "version_major": 2,
       "version_minor": 0
      },
      "text/plain": [
       "Dropdown(description='Categories:', options=('compliance', 'constrainttype', 'contentattribute', 'contenttype'…"
      ]
     },
     "metadata": {},
     "output_type": "display_data"
    }
   ],
   "source": [
    "# dropdown widget, which allows you to see all the categories in the metadata archive\n",
    "dropdown_categories = widgets.Dropdown(\n",
    "    options=list(df['category'].sort_values()),\n",
    "    value=list(df['category'])[0],\n",
    "    description='Categories:',\n",
    "    disabled=False,\n",
    ")\n",
    "\n",
    "display(dropdown_categories)"
   ]
  },
  {
   "cell_type": "markdown",
   "id": "16479c98",
   "metadata": {},
   "source": [
    "Each of the categories can be explored more by going into the metadata vocabulary for the different categories, here the instruments are looked at. "
   ]
  },
  {
   "cell_type": "code",
   "execution_count": 11,
   "id": "895a4ac3",
   "metadata": {
    "scrolled": true
   },
   "outputs": [
    {
     "data": {
      "text/html": [
       "<div>\n",
       "<style scoped>\n",
       "    .dataframe tbody tr th:only-of-type {\n",
       "        vertical-align: middle;\n",
       "    }\n",
       "\n",
       "    .dataframe tbody tr th {\n",
       "        vertical-align: top;\n",
       "    }\n",
       "\n",
       "    .dataframe thead th {\n",
       "        text-align: right;\n",
       "    }\n",
       "</style>\n",
       "<table border=\"1\" class=\"dataframe\">\n",
       "  <thead>\n",
       "    <tr style=\"text-align: right;\">\n",
       "      <th></th>\n",
       "      <th>label</th>\n",
       "      <th>atom</th>\n",
       "    </tr>\n",
       "  </thead>\n",
       "  <tbody>\n",
       "    <tr>\n",
       "      <th>0</th>\n",
       "      <td>absorption filter sampler</td>\n",
       "      <td>https://vocabulary.actris.nilu.no/actris_vocab...</td>\n",
       "    </tr>\n",
       "    <tr>\n",
       "      <th>1</th>\n",
       "      <td>absorption solution sampler</td>\n",
       "      <td>https://vocabulary.actris.nilu.no/actris_vocab...</td>\n",
       "    </tr>\n",
       "    <tr>\n",
       "      <th>2</th>\n",
       "      <td>absorption solution spectro-photometric sensor</td>\n",
       "      <td>https://vocabulary.actris.nilu.no/actris_vocab...</td>\n",
       "    </tr>\n",
       "    <tr>\n",
       "      <th>3</th>\n",
       "      <td>absorption tube</td>\n",
       "      <td>https://vocabulary.actris.nilu.no/actris_vocab...</td>\n",
       "    </tr>\n",
       "    <tr>\n",
       "      <th>4</th>\n",
       "      <td>adsorption tube</td>\n",
       "      <td>https://vocabulary.actris.nilu.no/actris_vocab...</td>\n",
       "    </tr>\n",
       "  </tbody>\n",
       "</table>\n",
       "</div>"
      ],
      "text/plain": [
       "                                            label  \\\n",
       "0                       absorption filter sampler   \n",
       "1                     absorption solution sampler   \n",
       "2  absorption solution spectro-photometric sensor   \n",
       "3                                 absorption tube   \n",
       "4                                 adsorption tube   \n",
       "\n",
       "                                                atom  \n",
       "0  https://vocabulary.actris.nilu.no/actris_vocab...  \n",
       "1  https://vocabulary.actris.nilu.no/actris_vocab...  \n",
       "2  https://vocabulary.actris.nilu.no/actris_vocab...  \n",
       "3  https://vocabulary.actris.nilu.no/actris_vocab...  \n",
       "4  https://vocabulary.actris.nilu.no/actris_vocab...  "
      ]
     },
     "execution_count": 11,
     "metadata": {},
     "output_type": "execute_result"
    }
   ],
   "source": [
    "# Vocabulary category values, choose from the above categories and explore the values. \n",
    "\n",
    "category = 'instrumenttype' # Gives all instrument categories\n",
    "#category = 'contentattribute' # Gives all variable categories\n",
    "\n",
    "response = requests.get(\"https://prod-actris-md.nilu.no/Vocabulary/{}\".format(category))  # get all Facilities in metadata archive\n",
    "archive = response.json()\n",
    "df = pd.DataFrame(archive)\n",
    "\n",
    "df.head()"
   ]
  },
  {
   "cell_type": "code",
   "execution_count": 12,
   "id": "f251aa00",
   "metadata": {},
   "outputs": [
    {
     "data": {
      "application/vnd.jupyter.widget-view+json": {
       "model_id": "2b7b5d2eaef64ce3b220237df431b290",
       "version_major": 2,
       "version_minor": 0
      },
      "text/plain": [
       "Dropdown(description='instrumenttype:', index=9, options=('Doppler lidar', 'Doppler non-scanning cloud radar',…"
      ]
     },
     "metadata": {},
     "output_type": "display_data"
    }
   ],
   "source": [
    "# dropdown widget for the category values chosen above\n",
    "dropdown_category = widgets.Dropdown(\n",
    "    options=list(df['label'].sort_values()),\n",
    "    value=list(df['label'])[0],\n",
    "    description='{}:'.format(category),\n",
    "    disabled=False,\n",
    "    \n",
    ")\n",
    "\n",
    "display(dropdown_category)"
   ]
  },
  {
   "cell_type": "markdown",
   "id": "f9b02bab",
   "metadata": {},
   "source": [
    "### Facilities"
   ]
  },
  {
   "cell_type": "code",
   "execution_count": 15,
   "id": "2c370c37",
   "metadata": {},
   "outputs": [
    {
     "data": {
      "text/html": [
       "<div>\n",
       "<style scoped>\n",
       "    .dataframe tbody tr th:only-of-type {\n",
       "        vertical-align: middle;\n",
       "    }\n",
       "\n",
       "    .dataframe tbody tr th {\n",
       "        vertical-align: top;\n",
       "    }\n",
       "\n",
       "    .dataframe thead th {\n",
       "        text-align: right;\n",
       "    }\n",
       "</style>\n",
       "<table border=\"1\" class=\"dataframe\">\n",
       "  <thead>\n",
       "    <tr style=\"text-align: right;\">\n",
       "      <th></th>\n",
       "      <th>num_id</th>\n",
       "      <th>identifier</th>\n",
       "      <th>name</th>\n",
       "      <th>lat</th>\n",
       "      <th>lon</th>\n",
       "      <th>alt</th>\n",
       "      <th>country_code</th>\n",
       "      <th>identifier_type</th>\n",
       "      <th>uri</th>\n",
       "      <th>wmo_region</th>\n",
       "      <th>active</th>\n",
       "      <th>contact_organisation</th>\n",
       "      <th>facility_type</th>\n",
       "      <th>actris_national_facility</th>\n",
       "      <th>actris_nf_uri</th>\n",
       "    </tr>\n",
       "  </thead>\n",
       "  <tbody>\n",
       "    <tr>\n",
       "      <th>0</th>\n",
       "      <td>2489</td>\n",
       "      <td>00LJ</td>\n",
       "      <td>Primorskaya</td>\n",
       "      <td>43.629167</td>\n",
       "      <td>132.236944</td>\n",
       "      <td>85.0</td>\n",
       "      <td>RU</td>\n",
       "      <td>other PID</td>\n",
       "      <td>https://prod-actris-md.nilu.no/facilities/00LJ</td>\n",
       "      <td>NaN</td>\n",
       "      <td>NaN</td>\n",
       "      <td>NaN</td>\n",
       "      <td>NaN</td>\n",
       "      <td>NaN</td>\n",
       "      <td>NaN</td>\n",
       "    </tr>\n",
       "    <tr>\n",
       "      <th>1</th>\n",
       "      <td>2490</td>\n",
       "      <td>03MW</td>\n",
       "      <td>Hvasser</td>\n",
       "      <td>59.066667</td>\n",
       "      <td>10.433333</td>\n",
       "      <td>35.0</td>\n",
       "      <td>NO</td>\n",
       "      <td>other PID</td>\n",
       "      <td>https://prod-actris-md.nilu.no/facilities/03MW</td>\n",
       "      <td>NaN</td>\n",
       "      <td>NaN</td>\n",
       "      <td>NaN</td>\n",
       "      <td>NaN</td>\n",
       "      <td>NaN</td>\n",
       "      <td>NaN</td>\n",
       "    </tr>\n",
       "    <tr>\n",
       "      <th>2</th>\n",
       "      <td>2491</td>\n",
       "      <td>03RG</td>\n",
       "      <td>Cottered</td>\n",
       "      <td>51.966667</td>\n",
       "      <td>-0.100000</td>\n",
       "      <td>NaN</td>\n",
       "      <td>GB</td>\n",
       "      <td>other PID</td>\n",
       "      <td>https://prod-actris-md.nilu.no/facilities/03RG</td>\n",
       "      <td>NaN</td>\n",
       "      <td>NaN</td>\n",
       "      <td>NaN</td>\n",
       "      <td>NaN</td>\n",
       "      <td>NaN</td>\n",
       "      <td>NaN</td>\n",
       "    </tr>\n",
       "    <tr>\n",
       "      <th>3</th>\n",
       "      <td>310</td>\n",
       "      <td>04ih</td>\n",
       "      <td>Anholt</td>\n",
       "      <td>56.716667</td>\n",
       "      <td>11.516667</td>\n",
       "      <td>40.0</td>\n",
       "      <td>DK</td>\n",
       "      <td>other PID</td>\n",
       "      <td>https://prod-actris-md.nilu.no/facilities/04ih</td>\n",
       "      <td>Europe</td>\n",
       "      <td>NaN</td>\n",
       "      <td>NaN</td>\n",
       "      <td>NaN</td>\n",
       "      <td>NaN</td>\n",
       "      <td>NaN</td>\n",
       "    </tr>\n",
       "    <tr>\n",
       "      <th>4</th>\n",
       "      <td>311</td>\n",
       "      <td>05sb</td>\n",
       "      <td>Ansbach</td>\n",
       "      <td>49.250000</td>\n",
       "      <td>10.583333</td>\n",
       "      <td>481.0</td>\n",
       "      <td>DE</td>\n",
       "      <td>other PID</td>\n",
       "      <td>https://prod-actris-md.nilu.no/facilities/05sb</td>\n",
       "      <td>Europe</td>\n",
       "      <td>NaN</td>\n",
       "      <td>NaN</td>\n",
       "      <td>NaN</td>\n",
       "      <td>NaN</td>\n",
       "      <td>NaN</td>\n",
       "    </tr>\n",
       "  </tbody>\n",
       "</table>\n",
       "</div>"
      ],
      "text/plain": [
       "   num_id identifier         name        lat         lon    alt country_code  \\\n",
       "0    2489       00LJ  Primorskaya  43.629167  132.236944   85.0           RU   \n",
       "1    2490       03MW      Hvasser  59.066667   10.433333   35.0           NO   \n",
       "2    2491       03RG     Cottered  51.966667   -0.100000    NaN           GB   \n",
       "3     310       04ih       Anholt  56.716667   11.516667   40.0           DK   \n",
       "4     311       05sb      Ansbach  49.250000   10.583333  481.0           DE   \n",
       "\n",
       "  identifier_type                                             uri wmo_region  \\\n",
       "0       other PID  https://prod-actris-md.nilu.no/facilities/00LJ        NaN   \n",
       "1       other PID  https://prod-actris-md.nilu.no/facilities/03MW        NaN   \n",
       "2       other PID  https://prod-actris-md.nilu.no/facilities/03RG        NaN   \n",
       "3       other PID  https://prod-actris-md.nilu.no/facilities/04ih     Europe   \n",
       "4       other PID  https://prod-actris-md.nilu.no/facilities/05sb     Europe   \n",
       "\n",
       "  active contact_organisation facility_type actris_national_facility  \\\n",
       "0    NaN                  NaN           NaN                      NaN   \n",
       "1    NaN                  NaN           NaN                      NaN   \n",
       "2    NaN                  NaN           NaN                      NaN   \n",
       "3    NaN                  NaN           NaN                      NaN   \n",
       "4    NaN                  NaN           NaN                      NaN   \n",
       "\n",
       "  actris_nf_uri  \n",
       "0           NaN  \n",
       "1           NaN  \n",
       "2           NaN  \n",
       "3           NaN  \n",
       "4           NaN  "
      ]
     },
     "execution_count": 15,
     "metadata": {},
     "output_type": "execute_result"
    }
   ],
   "source": [
    "response = requests.get(\"https://prod-actris-md.nilu.no/Facilities\") # get all facilities in metadata archive\n",
    "archive = response.json()\n",
    "df = pd.DataFrame(archive)\n",
    "\n",
    "df.head()"
   ]
  },
  {
   "cell_type": "code",
   "execution_count": 40,
   "id": "612ba1e3",
   "metadata": {},
   "outputs": [
    {
     "data": {
      "application/vnd.plotly.v1+json": {
       "config": {
        "plotlyServerURL": "https://plot.ly"
       },
       "data": [
        {
         "geo": "geo",
         "hovertemplate": "<b>%{hovertext}</b><br><br>actris_national_facility=True<br>lat=%{lat}<br>lon=%{lon}<extra></extra>",
         "hovertext": [
          "San Pietro Capofiume",
          "Julich",
          "RADO-Bucharest I",
          "ISAC Bologna II",
          "Granada",
          "Puijo Smear IV",
          "Lindenberg",
          "Monte Cimone",
          "Garmisch-Partenkirchen",
          "Pallas (Sammaltunturi)",
          "Birkenes II",
          "Bucharest I",
          "Sofia",
          "La Réunion - Saint Denis site",
          "Puy De Dome",
          "Potenza",
          "Thessaloniki",
          "Barcelona (Palau Reial)",
          "Zugspitze-Schneefernerhaus",
          "Villeneuve d'Ascq",
          "La Réunion - Maïdo atmospheric observatory",
          "Hyytiälä",
          "Bucharest II",
          "Bremen",
          "Jungfraujoch",
          "Warsaw",
          "Montseny",
          "Cluj-Napoca",
          "Kosetice (NAOK)",
          "Hohenpeissenberg",
          "Lille",
          "Galati",
          "Pallas (Matorova)",
          "Prague-Suchdol",
          "Sonnblick",
          "Vielsalm",
          "Clermont-Ferrand",
          "Pallas (Kenttärova)"
         ],
         "lat": [
          44.6538,
          50.908,
          44.348,
          44.523586,
          37.164,
          62.908889,
          52.208,
          44.193205,
          47.4764,
          67.973333,
          58.38853,
          44.348,
          42.65,
          -20.9017,
          45.772223,
          40.601,
          40.63,
          41.387463,
          47.4165,
          50.611017,
          -21.079449,
          61.85,
          44.343889,
          53.1037,
          46.5475,
          52.21,
          41.76667,
          46.768,
          49.573394,
          47.801498,
          50.611017,
          45.435,
          68,
          50.126389,
          47.05407,
          50.304003,
          45.761,
          67.987
         ],
         "legendgroup": "True",
         "lon": [
          11.6228,
          6.413,
          26.029,
          11.338474,
          -3.605,
          27.658611,
          14.118,
          10.701429,
          11.0631,
          24.116111,
          8.252,
          26.029,
          23.38,
          55.4852,
          2.964886,
          15.724,
          22.95,
          2.11532,
          10.97964,
          3.14035,
          55.383006,
          24.283333,
          26.011944,
          8.8495,
          7.985,
          20.98,
          2.35,
          23.551,
          15.080278,
          11.009619,
          3.14035,
          28.037,
          24.23722,
          14.384648,
          12.95794,
          6.001271,
          3.111,
          24.243
         ],
         "marker": {
          "color": "#EF553B",
          "symbol": "circle"
         },
         "mode": "markers",
         "name": "True",
         "showlegend": true,
         "type": "scattergeo"
        },
        {
         "geo": "geo",
         "hovertemplate": "<b>%{hovertext}</b><br><br>actris_national_facility=False<br>lat=%{lat}<br>lon=%{lon}<extra></extra>",
         "hovertext": [
          "Haute Provence observatory",
          "L'Aquila",
          "Marambio",
          "Valladolid (Jardin Botanico)",
          "El Arenosillo",
          "Hyltemossa",
          "Utö",
          "Montsec",
          "ILMARI",
          "Villum Research Station",
          "Maisach",
          "Schmucke",
          "Rzecin",
          "SAPHIR",
          "Payerne",
          "Naples",
          "Valladolid (Argales)",
          "SIRTA - Orme des Merisiers",
          "Athens NOA",
          "Chilbolton Observatory",
          "Beromunster",
          "Auchencorth Moss",
          "BEO Moussala",
          "Värriö",
          "Norunda Tornet",
          "CSA",
          "CERNESIM",
          "Uccle",
          "Athens Demokritos",
          "Limassol",
          "Melpitz",
          "Izana",
          "Vindeln",
          "Valladolid (Obregon)",
          "Pic du Midi",
          "Valladolid (Embajadores)",
          "Valladolid (Parque del Rejol)",
          "Ispra",
          "Agia Marina Xyliatou",
          "SIRTA - Palaiseau",
          "Waldhof",
          "Lecce (University of Salento)",
          "Lampedusa",
          "Valladolid (Cabildo)",
          "Helmos Mountain",
          "Mindelo",
          "Dushanbe",
          "Ny-Ålesund",
          "Cabauw Zijdeweg",
          "Kumpula",
          "Rome (Villa Ada)",
          "Paramaribo",
          "Belsk",
          "Milano Linate Airport",
          "Athens NTUA",
          "HELIOS",
          "CESAM",
          "Valladolid (Laguna)",
          "Zeppelin mountain (Ny-Ålesund)",
          "Finokalia",
          "Cape Verde Atmospheric Observatory",
          "Madrid (CIEMAT)",
          "Trollhaugen",
          "Lecce (ECO)",
          "Dubendorf",
          "AURA"
         ],
         "lat": [
          43.9304,
          42.344,
          -64.24006,
          41.668889,
          37.1,
          56.09763,
          59.779167,
          42.05134,
          62.8891,
          81.6,
          48.209,
          50.65,
          52.758,
          50.909,
          46.813056,
          40.838,
          41.629722,
          48.708611,
          37.973333,
          51.149617,
          47.189614,
          55.79216,
          42.166667,
          67.76667,
          60.086389,
          48.7891,
          47.1741,
          50.7979,
          37.994999,
          34.6771,
          51.525,
          28.309,
          64.25,
          41.645278,
          42.936667,
          41.629722,
          41.637222,
          45.8,
          35.0381,
          48.716,
          52.80222,
          40.3349,
          35.5182,
          41.671111,
          37.984265,
          16.8778,
          38.5594,
          78.923,
          51.970278,
          60.20288,
          41.932778,
          5.81,
          51.83,
          45.461944,
          37.96,
          47.8384,
          48.7891,
          41.602222,
          78.90715,
          35.337799,
          16.86403,
          40.456436,
          -72.0117,
          40.3358,
          47.405,
          56.16839
         ],
         "legendgroup": "False",
         "lon": [
          5.7136,
          13.327,
          -56.62478,
          -4.733056,
          -6.73333,
          13.41897,
          21.377222,
          0.72956,
          27.629,
          -16.67,
          11.258,
          10.766667,
          16.31,
          6.4134,
          6.944722,
          14.183,
          -4.740556,
          2.158889,
          23.718056,
          -1.438228,
          8.175434,
          -3.2429,
          23.58333,
          29.58333,
          17.479444,
          2.444,
          27.5723,
          4.35876,
          23.816,
          33.0376,
          12.9277,
          -16.4994,
          19.766667,
          -4.730556,
          0.141944,
          -4.719722,
          -4.758056,
          8.633333,
          33.0578,
          2.212,
          10.75944,
          18.1114,
          12.6305,
          -4.718056,
          22.196262,
          -24.995,
          68.8561,
          11.93,
          4.926389,
          24.961207,
          12.506944,
          -55.21,
          20.78,
          9.276667,
          23.78,
          1.9444,
          2.444,
          -4.726389,
          11.88668,
          25.669399,
          -24.86752,
          -3.725631,
          2.5351,
          18.1245,
          8.608611,
          10.19903
         ],
         "marker": {
          "color": "#00cc96",
          "symbol": "circle"
         },
         "mode": "markers",
         "name": "False",
         "showlegend": true,
         "type": "scattergeo"
        }
       ],
       "layout": {
        "geo": {
         "center": {},
         "domain": {
          "x": [
           0,
           1
          ],
          "y": [
           0,
           1
          ]
         },
         "projection": {
          "type": "natural earth"
         }
        },
        "height": 500,
        "legend": {
         "title": {
          "text": "actris_national_facility"
         },
         "tracegroupgap": 0
        },
        "margin": {
         "b": 20,
         "l": 20,
         "r": 20,
         "t": 20
        },
        "template": {
         "data": {
          "bar": [
           {
            "error_x": {
             "color": "#2a3f5f"
            },
            "error_y": {
             "color": "#2a3f5f"
            },
            "marker": {
             "line": {
              "color": "#E5ECF6",
              "width": 0.5
             },
             "pattern": {
              "fillmode": "overlay",
              "size": 10,
              "solidity": 0.2
             }
            },
            "type": "bar"
           }
          ],
          "barpolar": [
           {
            "marker": {
             "line": {
              "color": "#E5ECF6",
              "width": 0.5
             },
             "pattern": {
              "fillmode": "overlay",
              "size": 10,
              "solidity": 0.2
             }
            },
            "type": "barpolar"
           }
          ],
          "carpet": [
           {
            "aaxis": {
             "endlinecolor": "#2a3f5f",
             "gridcolor": "white",
             "linecolor": "white",
             "minorgridcolor": "white",
             "startlinecolor": "#2a3f5f"
            },
            "baxis": {
             "endlinecolor": "#2a3f5f",
             "gridcolor": "white",
             "linecolor": "white",
             "minorgridcolor": "white",
             "startlinecolor": "#2a3f5f"
            },
            "type": "carpet"
           }
          ],
          "choropleth": [
           {
            "colorbar": {
             "outlinewidth": 0,
             "ticks": ""
            },
            "type": "choropleth"
           }
          ],
          "contour": [
           {
            "colorbar": {
             "outlinewidth": 0,
             "ticks": ""
            },
            "colorscale": [
             [
              0,
              "#0d0887"
             ],
             [
              0.1111111111111111,
              "#46039f"
             ],
             [
              0.2222222222222222,
              "#7201a8"
             ],
             [
              0.3333333333333333,
              "#9c179e"
             ],
             [
              0.4444444444444444,
              "#bd3786"
             ],
             [
              0.5555555555555556,
              "#d8576b"
             ],
             [
              0.6666666666666666,
              "#ed7953"
             ],
             [
              0.7777777777777778,
              "#fb9f3a"
             ],
             [
              0.8888888888888888,
              "#fdca26"
             ],
             [
              1,
              "#f0f921"
             ]
            ],
            "type": "contour"
           }
          ],
          "contourcarpet": [
           {
            "colorbar": {
             "outlinewidth": 0,
             "ticks": ""
            },
            "type": "contourcarpet"
           }
          ],
          "heatmap": [
           {
            "colorbar": {
             "outlinewidth": 0,
             "ticks": ""
            },
            "colorscale": [
             [
              0,
              "#0d0887"
             ],
             [
              0.1111111111111111,
              "#46039f"
             ],
             [
              0.2222222222222222,
              "#7201a8"
             ],
             [
              0.3333333333333333,
              "#9c179e"
             ],
             [
              0.4444444444444444,
              "#bd3786"
             ],
             [
              0.5555555555555556,
              "#d8576b"
             ],
             [
              0.6666666666666666,
              "#ed7953"
             ],
             [
              0.7777777777777778,
              "#fb9f3a"
             ],
             [
              0.8888888888888888,
              "#fdca26"
             ],
             [
              1,
              "#f0f921"
             ]
            ],
            "type": "heatmap"
           }
          ],
          "heatmapgl": [
           {
            "colorbar": {
             "outlinewidth": 0,
             "ticks": ""
            },
            "colorscale": [
             [
              0,
              "#0d0887"
             ],
             [
              0.1111111111111111,
              "#46039f"
             ],
             [
              0.2222222222222222,
              "#7201a8"
             ],
             [
              0.3333333333333333,
              "#9c179e"
             ],
             [
              0.4444444444444444,
              "#bd3786"
             ],
             [
              0.5555555555555556,
              "#d8576b"
             ],
             [
              0.6666666666666666,
              "#ed7953"
             ],
             [
              0.7777777777777778,
              "#fb9f3a"
             ],
             [
              0.8888888888888888,
              "#fdca26"
             ],
             [
              1,
              "#f0f921"
             ]
            ],
            "type": "heatmapgl"
           }
          ],
          "histogram": [
           {
            "marker": {
             "pattern": {
              "fillmode": "overlay",
              "size": 10,
              "solidity": 0.2
             }
            },
            "type": "histogram"
           }
          ],
          "histogram2d": [
           {
            "colorbar": {
             "outlinewidth": 0,
             "ticks": ""
            },
            "colorscale": [
             [
              0,
              "#0d0887"
             ],
             [
              0.1111111111111111,
              "#46039f"
             ],
             [
              0.2222222222222222,
              "#7201a8"
             ],
             [
              0.3333333333333333,
              "#9c179e"
             ],
             [
              0.4444444444444444,
              "#bd3786"
             ],
             [
              0.5555555555555556,
              "#d8576b"
             ],
             [
              0.6666666666666666,
              "#ed7953"
             ],
             [
              0.7777777777777778,
              "#fb9f3a"
             ],
             [
              0.8888888888888888,
              "#fdca26"
             ],
             [
              1,
              "#f0f921"
             ]
            ],
            "type": "histogram2d"
           }
          ],
          "histogram2dcontour": [
           {
            "colorbar": {
             "outlinewidth": 0,
             "ticks": ""
            },
            "colorscale": [
             [
              0,
              "#0d0887"
             ],
             [
              0.1111111111111111,
              "#46039f"
             ],
             [
              0.2222222222222222,
              "#7201a8"
             ],
             [
              0.3333333333333333,
              "#9c179e"
             ],
             [
              0.4444444444444444,
              "#bd3786"
             ],
             [
              0.5555555555555556,
              "#d8576b"
             ],
             [
              0.6666666666666666,
              "#ed7953"
             ],
             [
              0.7777777777777778,
              "#fb9f3a"
             ],
             [
              0.8888888888888888,
              "#fdca26"
             ],
             [
              1,
              "#f0f921"
             ]
            ],
            "type": "histogram2dcontour"
           }
          ],
          "mesh3d": [
           {
            "colorbar": {
             "outlinewidth": 0,
             "ticks": ""
            },
            "type": "mesh3d"
           }
          ],
          "parcoords": [
           {
            "line": {
             "colorbar": {
              "outlinewidth": 0,
              "ticks": ""
             }
            },
            "type": "parcoords"
           }
          ],
          "pie": [
           {
            "automargin": true,
            "type": "pie"
           }
          ],
          "scatter": [
           {
            "fillpattern": {
             "fillmode": "overlay",
             "size": 10,
             "solidity": 0.2
            },
            "type": "scatter"
           }
          ],
          "scatter3d": [
           {
            "line": {
             "colorbar": {
              "outlinewidth": 0,
              "ticks": ""
             }
            },
            "marker": {
             "colorbar": {
              "outlinewidth": 0,
              "ticks": ""
             }
            },
            "type": "scatter3d"
           }
          ],
          "scattercarpet": [
           {
            "marker": {
             "colorbar": {
              "outlinewidth": 0,
              "ticks": ""
             }
            },
            "type": "scattercarpet"
           }
          ],
          "scattergeo": [
           {
            "marker": {
             "colorbar": {
              "outlinewidth": 0,
              "ticks": ""
             }
            },
            "type": "scattergeo"
           }
          ],
          "scattergl": [
           {
            "marker": {
             "colorbar": {
              "outlinewidth": 0,
              "ticks": ""
             }
            },
            "type": "scattergl"
           }
          ],
          "scattermapbox": [
           {
            "marker": {
             "colorbar": {
              "outlinewidth": 0,
              "ticks": ""
             }
            },
            "type": "scattermapbox"
           }
          ],
          "scatterpolar": [
           {
            "marker": {
             "colorbar": {
              "outlinewidth": 0,
              "ticks": ""
             }
            },
            "type": "scatterpolar"
           }
          ],
          "scatterpolargl": [
           {
            "marker": {
             "colorbar": {
              "outlinewidth": 0,
              "ticks": ""
             }
            },
            "type": "scatterpolargl"
           }
          ],
          "scatterternary": [
           {
            "marker": {
             "colorbar": {
              "outlinewidth": 0,
              "ticks": ""
             }
            },
            "type": "scatterternary"
           }
          ],
          "surface": [
           {
            "colorbar": {
             "outlinewidth": 0,
             "ticks": ""
            },
            "colorscale": [
             [
              0,
              "#0d0887"
             ],
             [
              0.1111111111111111,
              "#46039f"
             ],
             [
              0.2222222222222222,
              "#7201a8"
             ],
             [
              0.3333333333333333,
              "#9c179e"
             ],
             [
              0.4444444444444444,
              "#bd3786"
             ],
             [
              0.5555555555555556,
              "#d8576b"
             ],
             [
              0.6666666666666666,
              "#ed7953"
             ],
             [
              0.7777777777777778,
              "#fb9f3a"
             ],
             [
              0.8888888888888888,
              "#fdca26"
             ],
             [
              1,
              "#f0f921"
             ]
            ],
            "type": "surface"
           }
          ],
          "table": [
           {
            "cells": {
             "fill": {
              "color": "#EBF0F8"
             },
             "line": {
              "color": "white"
             }
            },
            "header": {
             "fill": {
              "color": "#C8D4E3"
             },
             "line": {
              "color": "white"
             }
            },
            "type": "table"
           }
          ]
         },
         "layout": {
          "annotationdefaults": {
           "arrowcolor": "#2a3f5f",
           "arrowhead": 0,
           "arrowwidth": 1
          },
          "autotypenumbers": "strict",
          "coloraxis": {
           "colorbar": {
            "outlinewidth": 0,
            "ticks": ""
           }
          },
          "colorscale": {
           "diverging": [
            [
             0,
             "#8e0152"
            ],
            [
             0.1,
             "#c51b7d"
            ],
            [
             0.2,
             "#de77ae"
            ],
            [
             0.3,
             "#f1b6da"
            ],
            [
             0.4,
             "#fde0ef"
            ],
            [
             0.5,
             "#f7f7f7"
            ],
            [
             0.6,
             "#e6f5d0"
            ],
            [
             0.7,
             "#b8e186"
            ],
            [
             0.8,
             "#7fbc41"
            ],
            [
             0.9,
             "#4d9221"
            ],
            [
             1,
             "#276419"
            ]
           ],
           "sequential": [
            [
             0,
             "#0d0887"
            ],
            [
             0.1111111111111111,
             "#46039f"
            ],
            [
             0.2222222222222222,
             "#7201a8"
            ],
            [
             0.3333333333333333,
             "#9c179e"
            ],
            [
             0.4444444444444444,
             "#bd3786"
            ],
            [
             0.5555555555555556,
             "#d8576b"
            ],
            [
             0.6666666666666666,
             "#ed7953"
            ],
            [
             0.7777777777777778,
             "#fb9f3a"
            ],
            [
             0.8888888888888888,
             "#fdca26"
            ],
            [
             1,
             "#f0f921"
            ]
           ],
           "sequentialminus": [
            [
             0,
             "#0d0887"
            ],
            [
             0.1111111111111111,
             "#46039f"
            ],
            [
             0.2222222222222222,
             "#7201a8"
            ],
            [
             0.3333333333333333,
             "#9c179e"
            ],
            [
             0.4444444444444444,
             "#bd3786"
            ],
            [
             0.5555555555555556,
             "#d8576b"
            ],
            [
             0.6666666666666666,
             "#ed7953"
            ],
            [
             0.7777777777777778,
             "#fb9f3a"
            ],
            [
             0.8888888888888888,
             "#fdca26"
            ],
            [
             1,
             "#f0f921"
            ]
           ]
          },
          "colorway": [
           "#636efa",
           "#EF553B",
           "#00cc96",
           "#ab63fa",
           "#FFA15A",
           "#19d3f3",
           "#FF6692",
           "#B6E880",
           "#FF97FF",
           "#FECB52"
          ],
          "font": {
           "color": "#2a3f5f"
          },
          "geo": {
           "bgcolor": "white",
           "lakecolor": "white",
           "landcolor": "#E5ECF6",
           "showlakes": true,
           "showland": true,
           "subunitcolor": "white"
          },
          "hoverlabel": {
           "align": "left"
          },
          "hovermode": "closest",
          "mapbox": {
           "style": "light"
          },
          "paper_bgcolor": "white",
          "plot_bgcolor": "#E5ECF6",
          "polar": {
           "angularaxis": {
            "gridcolor": "white",
            "linecolor": "white",
            "ticks": ""
           },
           "bgcolor": "#E5ECF6",
           "radialaxis": {
            "gridcolor": "white",
            "linecolor": "white",
            "ticks": ""
           }
          },
          "scene": {
           "xaxis": {
            "backgroundcolor": "#E5ECF6",
            "gridcolor": "white",
            "gridwidth": 2,
            "linecolor": "white",
            "showbackground": true,
            "ticks": "",
            "zerolinecolor": "white"
           },
           "yaxis": {
            "backgroundcolor": "#E5ECF6",
            "gridcolor": "white",
            "gridwidth": 2,
            "linecolor": "white",
            "showbackground": true,
            "ticks": "",
            "zerolinecolor": "white"
           },
           "zaxis": {
            "backgroundcolor": "#E5ECF6",
            "gridcolor": "white",
            "gridwidth": 2,
            "linecolor": "white",
            "showbackground": true,
            "ticks": "",
            "zerolinecolor": "white"
           }
          },
          "shapedefaults": {
           "line": {
            "color": "#2a3f5f"
           }
          },
          "ternary": {
           "aaxis": {
            "gridcolor": "white",
            "linecolor": "white",
            "ticks": ""
           },
           "baxis": {
            "gridcolor": "white",
            "linecolor": "white",
            "ticks": ""
           },
           "bgcolor": "#E5ECF6",
           "caxis": {
            "gridcolor": "white",
            "linecolor": "white",
            "ticks": ""
           }
          },
          "title": {
           "x": 0.05
          },
          "xaxis": {
           "automargin": true,
           "gridcolor": "white",
           "linecolor": "white",
           "ticks": "",
           "title": {
            "standoff": 15
           },
           "zerolinecolor": "white",
           "zerolinewidth": 2
          },
          "yaxis": {
           "automargin": true,
           "gridcolor": "white",
           "linecolor": "white",
           "ticks": "",
           "title": {
            "standoff": 15
           },
           "zerolinecolor": "white",
           "zerolinewidth": 2
          }
         }
        },
        "width": 1000
       }
      }
     },
     "metadata": {},
     "output_type": "display_data"
    }
   ],
   "source": [
    "fig = px.scatter_geo(df, lat=\"lat\", lon=\"lon\", color=\"actris_national_facility\", hover_name=\"name\"\n",
    "                     ,projection=\"natural earth\", size_max=15, width=1000, height=500)\n",
    "\n",
    "fig.update_layout(\n",
    "    margin=dict(l=20, r=20, t=20, b=20),\n",
    ")\n",
    "\n",
    "fig.show()"
   ]
  },
  {
   "cell_type": "code",
   "execution_count": 41,
   "id": "e77cceb1",
   "metadata": {},
   "outputs": [
    {
     "data": {
      "text/html": [
       "<div>\n",
       "<style scoped>\n",
       "    .dataframe tbody tr th:only-of-type {\n",
       "        vertical-align: middle;\n",
       "    }\n",
       "\n",
       "    .dataframe tbody tr th {\n",
       "        vertical-align: top;\n",
       "    }\n",
       "\n",
       "    .dataframe thead th {\n",
       "        text-align: right;\n",
       "    }\n",
       "</style>\n",
       "<table border=\"1\" class=\"dataframe\">\n",
       "  <thead>\n",
       "    <tr style=\"text-align: right;\">\n",
       "      <th></th>\n",
       "      <th>num_id</th>\n",
       "      <th>identifier</th>\n",
       "      <th>name</th>\n",
       "      <th>lat</th>\n",
       "      <th>lon</th>\n",
       "      <th>alt</th>\n",
       "      <th>country_code</th>\n",
       "      <th>identifier_type</th>\n",
       "      <th>uri</th>\n",
       "      <th>wmo_region</th>\n",
       "      <th>active</th>\n",
       "      <th>contact_organisation</th>\n",
       "      <th>facility_type</th>\n",
       "      <th>actris_national_facility</th>\n",
       "      <th>actris_nf_uri</th>\n",
       "    </tr>\n",
       "  </thead>\n",
       "  <tbody>\n",
       "    <tr>\n",
       "      <th>83</th>\n",
       "      <td>341</td>\n",
       "      <td>23j8</td>\n",
       "      <td>Campisabalos</td>\n",
       "      <td>41.274170</td>\n",
       "      <td>-3.142500</td>\n",
       "      <td>1360.0</td>\n",
       "      <td>ES</td>\n",
       "      <td>other PID</td>\n",
       "      <td>https://prod-actris-md.nilu.no/facilities/23j8</td>\n",
       "      <td>Europe</td>\n",
       "      <td>NaN</td>\n",
       "      <td>NaN</td>\n",
       "      <td>NaN</td>\n",
       "      <td>NaN</td>\n",
       "      <td>NaN</td>\n",
       "    </tr>\n",
       "    <tr>\n",
       "      <th>89</th>\n",
       "      <td>346</td>\n",
       "      <td>290n</td>\n",
       "      <td>Risco Llamo</td>\n",
       "      <td>39.516667</td>\n",
       "      <td>-4.350000</td>\n",
       "      <td>1241.0</td>\n",
       "      <td>ES</td>\n",
       "      <td>other PID</td>\n",
       "      <td>https://prod-actris-md.nilu.no/facilities/290n</td>\n",
       "      <td>Europe</td>\n",
       "      <td>NaN</td>\n",
       "      <td>NaN</td>\n",
       "      <td>NaN</td>\n",
       "      <td>NaN</td>\n",
       "      <td>NaN</td>\n",
       "    </tr>\n",
       "    <tr>\n",
       "      <th>97</th>\n",
       "      <td>3867</td>\n",
       "      <td>2geA</td>\n",
       "      <td>Valladolid (Jardin Botanico)</td>\n",
       "      <td>41.668889</td>\n",
       "      <td>-4.733056</td>\n",
       "      <td>694.0</td>\n",
       "      <td>ES</td>\n",
       "      <td>other PID</td>\n",
       "      <td>https://data.actris.eu/facility/2geA</td>\n",
       "      <td>Europe</td>\n",
       "      <td>True</td>\n",
       "      <td>NaN</td>\n",
       "      <td>[observation platform, fixed]</td>\n",
       "      <td>False</td>\n",
       "      <td>NaN</td>\n",
       "    </tr>\n",
       "    <tr>\n",
       "      <th>124</th>\n",
       "      <td>362</td>\n",
       "      <td>39pk</td>\n",
       "      <td>Vic</td>\n",
       "      <td>41.935000</td>\n",
       "      <td>2.239722</td>\n",
       "      <td>496.0</td>\n",
       "      <td>ES</td>\n",
       "      <td>other PID</td>\n",
       "      <td>https://prod-actris-md.nilu.no/facilities/39pk</td>\n",
       "      <td>Europe</td>\n",
       "      <td>NaN</td>\n",
       "      <td>NaN</td>\n",
       "      <td>NaN</td>\n",
       "      <td>NaN</td>\n",
       "      <td>NaN</td>\n",
       "    </tr>\n",
       "    <tr>\n",
       "      <th>139</th>\n",
       "      <td>178</td>\n",
       "      <td>3pb5</td>\n",
       "      <td>El Arenosillo</td>\n",
       "      <td>37.100000</td>\n",
       "      <td>-6.733330</td>\n",
       "      <td>41.0</td>\n",
       "      <td>ES</td>\n",
       "      <td>other PID</td>\n",
       "      <td>https://dev-dc.actris.nilu.no/facility/3pb5</td>\n",
       "      <td>Europe</td>\n",
       "      <td>True</td>\n",
       "      <td>NaN</td>\n",
       "      <td>[observation platform, fixed]</td>\n",
       "      <td>False</td>\n",
       "      <td>https://actris-nf-labelling.out.ocp.fmi.fi/fac...</td>\n",
       "    </tr>\n",
       "  </tbody>\n",
       "</table>\n",
       "</div>"
      ],
      "text/plain": [
       "     num_id identifier                          name        lat       lon  \\\n",
       "83      341       23j8                  Campisabalos  41.274170 -3.142500   \n",
       "89      346       290n                   Risco Llamo  39.516667 -4.350000   \n",
       "97     3867       2geA  Valladolid (Jardin Botanico)  41.668889 -4.733056   \n",
       "124     362       39pk                           Vic  41.935000  2.239722   \n",
       "139     178       3pb5                 El Arenosillo  37.100000 -6.733330   \n",
       "\n",
       "        alt country_code identifier_type  \\\n",
       "83   1360.0           ES       other PID   \n",
       "89   1241.0           ES       other PID   \n",
       "97    694.0           ES       other PID   \n",
       "124   496.0           ES       other PID   \n",
       "139    41.0           ES       other PID   \n",
       "\n",
       "                                                uri wmo_region active  \\\n",
       "83   https://prod-actris-md.nilu.no/facilities/23j8     Europe    NaN   \n",
       "89   https://prod-actris-md.nilu.no/facilities/290n     Europe    NaN   \n",
       "97             https://data.actris.eu/facility/2geA     Europe   True   \n",
       "124  https://prod-actris-md.nilu.no/facilities/39pk     Europe    NaN   \n",
       "139     https://dev-dc.actris.nilu.no/facility/3pb5     Europe   True   \n",
       "\n",
       "    contact_organisation                  facility_type  \\\n",
       "83                   NaN                            NaN   \n",
       "89                   NaN                            NaN   \n",
       "97                   NaN  [observation platform, fixed]   \n",
       "124                  NaN                            NaN   \n",
       "139                  NaN  [observation platform, fixed]   \n",
       "\n",
       "    actris_national_facility  \\\n",
       "83                       NaN   \n",
       "89                       NaN   \n",
       "97                     False   \n",
       "124                      NaN   \n",
       "139                    False   \n",
       "\n",
       "                                         actris_nf_uri  \n",
       "83                                                 NaN  \n",
       "89                                                 NaN  \n",
       "97                                                 NaN  \n",
       "124                                                NaN  \n",
       "139  https://actris-nf-labelling.out.ocp.fmi.fi/fac...  "
      ]
     },
     "execution_count": 41,
     "metadata": {},
     "output_type": "execute_result"
    }
   ],
   "source": [
    "# show all metadata for norwegian facilities \n",
    "facilities_county = df[df['country_code']=='ES'] #select norwegian facilities\n",
    "facilities_county.head() # show archive as table "
   ]
  },
  {
   "cell_type": "markdown",
   "id": "1cbe6463",
   "metadata": {},
   "source": [
    "### Providers"
   ]
  },
  {
   "cell_type": "code",
   "execution_count": 43,
   "id": "7a94fb67",
   "metadata": {},
   "outputs": [
    {
     "data": {
      "application/vnd.jupyter.widget-view+json": {
       "model_id": "2922ba6c3a0d4e8b9d8a043c7b334526",
       "version_major": 2,
       "version_minor": 0
      },
      "text/plain": [
       "Dropdown(description='Providers:', options=('ARES', 'ASC', 'CLU', 'DVAS', 'GRES', 'IN-SITU', 'Norwegian Instit…"
      ]
     },
     "metadata": {},
     "output_type": "display_data"
    }
   ],
   "source": [
    "response = requests.get(\"https://prod-actris-md.nilu.no/Providers\") # get all networks in metadata archive\n",
    "archive = response.json()\n",
    "df = pd.DataFrame(archive)\n",
    "\n",
    "# dropdown widget\n",
    "dropdown_providers = widgets.Dropdown(\n",
    "    options=list(df['name'].sort_values()),\n",
    "    value=list(df['name'])[-1],\n",
    "    description='Providers:',\n",
    "    disabled=False,\n",
    ")\n",
    "\n",
    "display(dropdown_providers)"
   ]
  },
  {
   "cell_type": "code",
   "execution_count": 45,
   "id": "5c245a19",
   "metadata": {},
   "outputs": [
    {
     "data": {
      "text/html": [
       "<div>\n",
       "<style scoped>\n",
       "    .dataframe tbody tr th:only-of-type {\n",
       "        vertical-align: middle;\n",
       "    }\n",
       "\n",
       "    .dataframe tbody tr th {\n",
       "        vertical-align: top;\n",
       "    }\n",
       "\n",
       "    .dataframe thead th {\n",
       "        text-align: right;\n",
       "    }\n",
       "</style>\n",
       "<table border=\"1\" class=\"dataframe\">\n",
       "  <thead>\n",
       "    <tr style=\"text-align: right;\">\n",
       "      <th></th>\n",
       "      <th>id</th>\n",
       "      <th>name</th>\n",
       "      <th>acronym</th>\n",
       "      <th>description</th>\n",
       "      <th>created</th>\n",
       "    </tr>\n",
       "  </thead>\n",
       "  <tbody>\n",
       "    <tr>\n",
       "      <th>6</th>\n",
       "      <td>14</td>\n",
       "      <td>IN-SITU</td>\n",
       "      <td>IN-SITU</td>\n",
       "      <td>ACTRIS In situ data centre unit (In-Situ)</td>\n",
       "      <td>2020-06-29T07:20:45.2311600Z</td>\n",
       "    </tr>\n",
       "  </tbody>\n",
       "</table>\n",
       "</div>"
      ],
      "text/plain": [
       "   id     name  acronym                                description  \\\n",
       "6  14  IN-SITU  IN-SITU  ACTRIS In situ data centre unit (In-Situ)   \n",
       "\n",
       "                        created  \n",
       "6  2020-06-29T07:20:45.2311600Z  "
      ]
     },
     "execution_count": 45,
     "metadata": {},
     "output_type": "execute_result"
    }
   ],
   "source": [
    "df[df['name']==dropdown_providers.value]"
   ]
  },
  {
   "cell_type": "markdown",
   "id": "10074aa0",
   "metadata": {},
   "source": [
    "## Accessing metadata\n",
    "\n",
    "The full ACTRIS metadata catalog can be accessed with https://prod-actris-md.nilu.no/Metadata/, but(!) this can take a bit of time. Therefore its best search using the available search elements such as instrument, country, station, provider etc. \n"
   ]
  },
  {
   "cell_type": "code",
   "execution_count": 53,
   "id": "ec8edcef",
   "metadata": {},
   "outputs": [
    {
     "ename": "JSONDecodeError",
     "evalue": "Expecting value: line 1 column 1 (char 0)",
     "output_type": "error",
     "traceback": [
      "\u001b[0;31m---------------------------------------------------------------------------\u001b[0m",
      "\u001b[0;31mJSONDecodeError\u001b[0m                           Traceback (most recent call last)",
      "File \u001b[0;32m~/anaconda3/lib/python3.9/site-packages/requests/models.py:971\u001b[0m, in \u001b[0;36mResponse.json\u001b[0;34m(self, **kwargs)\u001b[0m\n\u001b[1;32m    970\u001b[0m \u001b[38;5;28;01mtry\u001b[39;00m:\n\u001b[0;32m--> 971\u001b[0m     \u001b[38;5;28;01mreturn\u001b[39;00m \u001b[43mcomplexjson\u001b[49m\u001b[38;5;241;43m.\u001b[39;49m\u001b[43mloads\u001b[49m\u001b[43m(\u001b[49m\u001b[38;5;28;43mself\u001b[39;49m\u001b[38;5;241;43m.\u001b[39;49m\u001b[43mtext\u001b[49m\u001b[43m,\u001b[49m\u001b[43m \u001b[49m\u001b[38;5;241;43m*\u001b[39;49m\u001b[38;5;241;43m*\u001b[39;49m\u001b[43mkwargs\u001b[49m\u001b[43m)\u001b[49m\n\u001b[1;32m    972\u001b[0m \u001b[38;5;28;01mexcept\u001b[39;00m JSONDecodeError \u001b[38;5;28;01mas\u001b[39;00m e:\n\u001b[1;32m    973\u001b[0m     \u001b[38;5;66;03m# Catch JSON-related errors and raise as requests.JSONDecodeError\u001b[39;00m\n\u001b[1;32m    974\u001b[0m     \u001b[38;5;66;03m# This aliases json.JSONDecodeError and simplejson.JSONDecodeError\u001b[39;00m\n",
      "File \u001b[0;32m~/anaconda3/lib/python3.9/json/__init__.py:346\u001b[0m, in \u001b[0;36mloads\u001b[0;34m(s, cls, object_hook, parse_float, parse_int, parse_constant, object_pairs_hook, **kw)\u001b[0m\n\u001b[1;32m    343\u001b[0m \u001b[38;5;28;01mif\u001b[39;00m (\u001b[38;5;28mcls\u001b[39m \u001b[38;5;129;01mis\u001b[39;00m \u001b[38;5;28;01mNone\u001b[39;00m \u001b[38;5;129;01mand\u001b[39;00m object_hook \u001b[38;5;129;01mis\u001b[39;00m \u001b[38;5;28;01mNone\u001b[39;00m \u001b[38;5;129;01mand\u001b[39;00m\n\u001b[1;32m    344\u001b[0m         parse_int \u001b[38;5;129;01mis\u001b[39;00m \u001b[38;5;28;01mNone\u001b[39;00m \u001b[38;5;129;01mand\u001b[39;00m parse_float \u001b[38;5;129;01mis\u001b[39;00m \u001b[38;5;28;01mNone\u001b[39;00m \u001b[38;5;129;01mand\u001b[39;00m\n\u001b[1;32m    345\u001b[0m         parse_constant \u001b[38;5;129;01mis\u001b[39;00m \u001b[38;5;28;01mNone\u001b[39;00m \u001b[38;5;129;01mand\u001b[39;00m object_pairs_hook \u001b[38;5;129;01mis\u001b[39;00m \u001b[38;5;28;01mNone\u001b[39;00m \u001b[38;5;129;01mand\u001b[39;00m \u001b[38;5;129;01mnot\u001b[39;00m kw):\n\u001b[0;32m--> 346\u001b[0m     \u001b[38;5;28;01mreturn\u001b[39;00m \u001b[43m_default_decoder\u001b[49m\u001b[38;5;241;43m.\u001b[39;49m\u001b[43mdecode\u001b[49m\u001b[43m(\u001b[49m\u001b[43ms\u001b[49m\u001b[43m)\u001b[49m\n\u001b[1;32m    347\u001b[0m \u001b[38;5;28;01mif\u001b[39;00m \u001b[38;5;28mcls\u001b[39m \u001b[38;5;129;01mis\u001b[39;00m \u001b[38;5;28;01mNone\u001b[39;00m:\n",
      "File \u001b[0;32m~/anaconda3/lib/python3.9/json/decoder.py:337\u001b[0m, in \u001b[0;36mJSONDecoder.decode\u001b[0;34m(self, s, _w)\u001b[0m\n\u001b[1;32m    333\u001b[0m \u001b[38;5;250m\u001b[39m\u001b[38;5;124;03m\"\"\"Return the Python representation of ``s`` (a ``str`` instance\u001b[39;00m\n\u001b[1;32m    334\u001b[0m \u001b[38;5;124;03mcontaining a JSON document).\u001b[39;00m\n\u001b[1;32m    335\u001b[0m \n\u001b[1;32m    336\u001b[0m \u001b[38;5;124;03m\"\"\"\u001b[39;00m\n\u001b[0;32m--> 337\u001b[0m obj, end \u001b[38;5;241m=\u001b[39m \u001b[38;5;28;43mself\u001b[39;49m\u001b[38;5;241;43m.\u001b[39;49m\u001b[43mraw_decode\u001b[49m\u001b[43m(\u001b[49m\u001b[43ms\u001b[49m\u001b[43m,\u001b[49m\u001b[43m \u001b[49m\u001b[43midx\u001b[49m\u001b[38;5;241;43m=\u001b[39;49m\u001b[43m_w\u001b[49m\u001b[43m(\u001b[49m\u001b[43ms\u001b[49m\u001b[43m,\u001b[49m\u001b[43m \u001b[49m\u001b[38;5;241;43m0\u001b[39;49m\u001b[43m)\u001b[49m\u001b[38;5;241;43m.\u001b[39;49m\u001b[43mend\u001b[49m\u001b[43m(\u001b[49m\u001b[43m)\u001b[49m\u001b[43m)\u001b[49m\n\u001b[1;32m    338\u001b[0m end \u001b[38;5;241m=\u001b[39m _w(s, end)\u001b[38;5;241m.\u001b[39mend()\n",
      "File \u001b[0;32m~/anaconda3/lib/python3.9/json/decoder.py:355\u001b[0m, in \u001b[0;36mJSONDecoder.raw_decode\u001b[0;34m(self, s, idx)\u001b[0m\n\u001b[1;32m    354\u001b[0m \u001b[38;5;28;01mexcept\u001b[39;00m \u001b[38;5;167;01mStopIteration\u001b[39;00m \u001b[38;5;28;01mas\u001b[39;00m err:\n\u001b[0;32m--> 355\u001b[0m     \u001b[38;5;28;01mraise\u001b[39;00m JSONDecodeError(\u001b[38;5;124m\"\u001b[39m\u001b[38;5;124mExpecting value\u001b[39m\u001b[38;5;124m\"\u001b[39m, s, err\u001b[38;5;241m.\u001b[39mvalue) \u001b[38;5;28;01mfrom\u001b[39;00m \u001b[38;5;28;01mNone\u001b[39;00m\n\u001b[1;32m    356\u001b[0m \u001b[38;5;28;01mreturn\u001b[39;00m obj, end\n",
      "\u001b[0;31mJSONDecodeError\u001b[0m: Expecting value: line 1 column 1 (char 0)",
      "\nDuring handling of the above exception, another exception occurred:\n",
      "\u001b[0;31mJSONDecodeError\u001b[0m                           Traceback (most recent call last)",
      "Cell \u001b[0;32mIn[53], line 3\u001b[0m\n\u001b[1;32m      1\u001b[0m \u001b[38;5;66;03m# get all metadata in catalogue \u001b[39;00m\n\u001b[1;32m      2\u001b[0m response \u001b[38;5;241m=\u001b[39m requests\u001b[38;5;241m.\u001b[39mget(\u001b[38;5;124m\"\u001b[39m\u001b[38;5;124mhttps://prod-actris-md.nilu.no/metadata/instrument/integrating\u001b[39m\u001b[38;5;124m%\u001b[39m\u001b[38;5;124m20nephlometer/country/ES/facility/5qss/page/0\u001b[39m\u001b[38;5;124m\"\u001b[39m) \n\u001b[0;32m----> 3\u001b[0m metadata_archive \u001b[38;5;241m=\u001b[39m \u001b[43mresponse\u001b[49m\u001b[38;5;241;43m.\u001b[39;49m\u001b[43mjson\u001b[49m\u001b[43m(\u001b[49m\u001b[43m)\u001b[49m\n",
      "File \u001b[0;32m~/anaconda3/lib/python3.9/site-packages/requests/models.py:975\u001b[0m, in \u001b[0;36mResponse.json\u001b[0;34m(self, **kwargs)\u001b[0m\n\u001b[1;32m    971\u001b[0m     \u001b[38;5;28;01mreturn\u001b[39;00m complexjson\u001b[38;5;241m.\u001b[39mloads(\u001b[38;5;28mself\u001b[39m\u001b[38;5;241m.\u001b[39mtext, \u001b[38;5;241m*\u001b[39m\u001b[38;5;241m*\u001b[39mkwargs)\n\u001b[1;32m    972\u001b[0m \u001b[38;5;28;01mexcept\u001b[39;00m JSONDecodeError \u001b[38;5;28;01mas\u001b[39;00m e:\n\u001b[1;32m    973\u001b[0m     \u001b[38;5;66;03m# Catch JSON-related errors and raise as requests.JSONDecodeError\u001b[39;00m\n\u001b[1;32m    974\u001b[0m     \u001b[38;5;66;03m# This aliases json.JSONDecodeError and simplejson.JSONDecodeError\u001b[39;00m\n\u001b[0;32m--> 975\u001b[0m     \u001b[38;5;28;01mraise\u001b[39;00m RequestsJSONDecodeError(e\u001b[38;5;241m.\u001b[39mmsg, e\u001b[38;5;241m.\u001b[39mdoc, e\u001b[38;5;241m.\u001b[39mpos)\n",
      "\u001b[0;31mJSONDecodeError\u001b[0m: Expecting value: line 1 column 1 (char 0)"
     ]
    }
   ],
   "source": [
    "# get all metadata in catalogue \n",
    "response = requests.get(\"https://prod-actris-md.nilu.no/metadata/instrument/integrating%20nephlometer/country/ES/facility/5qss/page/0\") \n",
    "metadata_archive = response.json() "
   ]
  },
  {
   "cell_type": "code",
   "execution_count": 11,
   "id": "4b72f8a1",
   "metadata": {
    "scrolled": true
   },
   "outputs": [
    {
     "ename": "NameError",
     "evalue": "name 'metadata_archive' is not defined",
     "output_type": "error",
     "traceback": [
      "\u001b[0;31m---------------------------------------------------------------------------\u001b[0m",
      "\u001b[0;31mNameError\u001b[0m                                 Traceback (most recent call last)",
      "Cell \u001b[0;32mIn[11], line 1\u001b[0m\n\u001b[0;32m----> 1\u001b[0m \u001b[43mmetadata_archive\u001b[49m[\u001b[38;5;241m0\u001b[39m]\n",
      "\u001b[0;31mNameError\u001b[0m: name 'metadata_archive' is not defined"
     ]
    }
   ],
   "source": [
    "metadata_archive[0] # show metadata"
   ]
  },
  {
   "cell_type": "code",
   "execution_count": null,
   "id": "928c5b84",
   "metadata": {},
   "outputs": [
    {
     "data": {
      "text/plain": [
       "id                                                            203849\n",
       "provider           {'name': 'IN-SITU', 'atom': 'http://localhost:...\n",
       "file_identifier                                         P3HD-KWCT.nc\n",
       "language                                                          en\n",
       "hierarchy_level                                              dataset\n",
       "online_resource                  {'linkage': 'http://ebas.nilu.no/'}\n",
       "datestamp                               2024-06-13T22:00:00.0000000Z\n",
       "created                                 2024-06-14T08:17:20.0000000Z\n",
       "contact            [{'first_name': 'Markus', 'last_name': 'Fiebig...\n",
       "Name: 0, dtype: object"
      ]
     },
     "execution_count": 21,
     "metadata": {},
     "output_type": "execute_result"
    }
   ],
   "source": [
    "# Most of these keys consists of a new dictonary with metadata information. \n",
    "# An example is md_metadata \n",
    "md_list = []\n",
    "for f in metadata_archive:\n",
    "    md_list.append(f['md_metadata']) \n",
    "df_md_metadata = pd.DataFrame.from_records(md_list)\n",
    "\n",
    "df_md_metadata.iloc[0] #only show first element in list of metadata"
   ]
  },
  {
   "cell_type": "code",
   "execution_count": null,
   "id": "3ffe108c",
   "metadata": {
    "scrolled": true
   },
   "outputs": [
    {
     "data": {
      "text/plain": [
       "[{'first_name': 'Markus',\n",
       "  'last_name': 'Fiebig',\n",
       "  'organisation_name': 'NILU',\n",
       "  'role_code': ['custodian'],\n",
       "  'country_code': 'NO',\n",
       "  'delivery_point': 'Instituttveien 18',\n",
       "  'address_city': 'Kjeller',\n",
       "  'administrative_area': 'Viken',\n",
       "  'postal_code': 2007,\n",
       "  'email': 'ebas@nilu.no',\n",
       "  'position_name': 'Senior Scientist'}]"
      ]
     },
     "execution_count": 22,
     "metadata": {},
     "output_type": "execute_result"
    }
   ],
   "source": [
    "# Above the column 'contact' includes more information about a contact person for each dataset. \n",
    "\n",
    "df_md_metadata.iloc[0]['contact'] # show contact information for first dataset"
   ]
  },
  {
   "cell_type": "code",
   "execution_count": null,
   "metadata": {},
   "outputs": [
    {
     "data": {
      "text/html": [
       "<div>\n",
       "<style scoped>\n",
       "    .dataframe tbody tr th:only-of-type {\n",
       "        vertical-align: middle;\n",
       "    }\n",
       "\n",
       "    .dataframe tbody tr th {\n",
       "        vertical-align: top;\n",
       "    }\n",
       "\n",
       "    .dataframe thead th {\n",
       "        text-align: right;\n",
       "    }\n",
       "</style>\n",
       "<table border=\"1\" class=\"dataframe\">\n",
       "  <thead>\n",
       "    <tr style=\"text-align: right;\">\n",
       "      <th></th>\n",
       "      <th>attribute_descriptions</th>\n",
       "      <th>content_type</th>\n",
       "    </tr>\n",
       "  </thead>\n",
       "  <tbody>\n",
       "    <tr>\n",
       "      <th>0</th>\n",
       "      <td>[aerosol particle mass concentration]</td>\n",
       "      <td>physicalMeasurement</td>\n",
       "    </tr>\n",
       "    <tr>\n",
       "      <th>1</th>\n",
       "      <td>[aerosol particle light absorption coefficient]</td>\n",
       "      <td>physicalMeasurement</td>\n",
       "    </tr>\n",
       "    <tr>\n",
       "      <th>2</th>\n",
       "      <td>[aerosol particle light absorption coefficient]</td>\n",
       "      <td>physicalMeasurement</td>\n",
       "    </tr>\n",
       "    <tr>\n",
       "      <th>3</th>\n",
       "      <td>[aerosol particle light absorption coefficient]</td>\n",
       "      <td>physicalMeasurement</td>\n",
       "    </tr>\n",
       "    <tr>\n",
       "      <th>4</th>\n",
       "      <td>[aerosol particle light absorption coefficient]</td>\n",
       "      <td>physicalMeasurement</td>\n",
       "    </tr>\n",
       "    <tr>\n",
       "      <th>...</th>\n",
       "      <td>...</td>\n",
       "      <td>...</td>\n",
       "    </tr>\n",
       "    <tr>\n",
       "      <th>105</th>\n",
       "      <td>[aerosol particle elemental carbon mass concen...</td>\n",
       "      <td>physicalMeasurement</td>\n",
       "    </tr>\n",
       "    <tr>\n",
       "      <th>106</th>\n",
       "      <td>[ozone mass concentration]</td>\n",
       "      <td>physicalMeasurement</td>\n",
       "    </tr>\n",
       "    <tr>\n",
       "      <th>107</th>\n",
       "      <td>[hydrogen amount fraction]</td>\n",
       "      <td>physicalMeasurement</td>\n",
       "    </tr>\n",
       "    <tr>\n",
       "      <th>108</th>\n",
       "      <td>[aerosol particle aluminium mass concentration...</td>\n",
       "      <td>physicalMeasurement</td>\n",
       "    </tr>\n",
       "    <tr>\n",
       "      <th>109</th>\n",
       "      <td>[gaseous elemental mercury mass concentration]</td>\n",
       "      <td>physicalMeasurement</td>\n",
       "    </tr>\n",
       "  </tbody>\n",
       "</table>\n",
       "<p>110 rows × 2 columns</p>\n",
       "</div>"
      ],
      "text/plain": [
       "                                attribute_descriptions         content_type\n",
       "0                [aerosol particle mass concentration]  physicalMeasurement\n",
       "1      [aerosol particle light absorption coefficient]  physicalMeasurement\n",
       "2      [aerosol particle light absorption coefficient]  physicalMeasurement\n",
       "3      [aerosol particle light absorption coefficient]  physicalMeasurement\n",
       "4      [aerosol particle light absorption coefficient]  physicalMeasurement\n",
       "..                                                 ...                  ...\n",
       "105  [aerosol particle elemental carbon mass concen...  physicalMeasurement\n",
       "106                         [ozone mass concentration]  physicalMeasurement\n",
       "107                         [hydrogen amount fraction]  physicalMeasurement\n",
       "108  [aerosol particle aluminium mass concentration...  physicalMeasurement\n",
       "109     [gaseous elemental mercury mass concentration]  physicalMeasurement\n",
       "\n",
       "[110 rows x 2 columns]"
      ]
     },
     "execution_count": 23,
     "metadata": {},
     "output_type": "execute_result"
    }
   ],
   "source": [
    "# Another example of extracting metadata, here the content information.\n",
    "files_list = []\n",
    "for f in metadata_archive:\n",
    "    url = f['md_content_information']\n",
    "    files_list.append(url)\n",
    "    \n",
    "df_content_information = pd.DataFrame.from_records(files_list)\n",
    "# Displays the content information for all datasets from Birkenes II \n",
    "df_content_information \n"
   ]
  },
  {
   "cell_type": "code",
   "execution_count": null,
   "id": "6ef20ee6",
   "metadata": {},
   "outputs": [
    {
     "data": {
      "text/plain": [
       "data_format                                                       NETCDF\n",
       "version_data_format                                                    4\n",
       "dataset_url            https://thredds.nilu.no/thredds/dodsC/ebas_doi...\n",
       "protocol                                                         OPeNDAP\n",
       "function                                                       streaming\n",
       "restriction                                               {'set': False}\n",
       "transfersize                                                   2143439.0\n",
       "Name: 0, dtype: object"
      ]
     },
     "execution_count": 24,
     "metadata": {},
     "output_type": "execute_result"
    }
   ],
   "source": [
    "# Another example of extracting metadata, here the distribution information.\n",
    "# The distribution information includes data format, dataset url, protocol, restrictions and more.\n",
    "\n",
    "files_list = []\n",
    "for f in metadata_archive:\n",
    "    url = f['md_distribution_information'][0]\n",
    "    files_list.append(url)\n",
    "    \n",
    "df_distribution_information = pd.DataFrame.from_records(files_list)\n",
    "df_distribution_information.iloc[0] #show the distribution information for the first dataset. \n",
    "# If you wish to see distribution information about all Birkenes II datasets, remove .iloc[0]"
   ]
  }
 ],
 "metadata": {
  "kernelspec": {
   "display_name": "base",
   "language": "python",
   "name": "python3"
  },
  "language_info": {
   "codemirror_mode": {
    "name": "ipython",
    "version": 3
   },
   "file_extension": ".py",
   "mimetype": "text/x-python",
   "name": "python",
   "nbconvert_exporter": "python",
   "pygments_lexer": "ipython3",
   "version": "3.9.16"
  }
 },
 "nbformat": 4,
 "nbformat_minor": 5
}
