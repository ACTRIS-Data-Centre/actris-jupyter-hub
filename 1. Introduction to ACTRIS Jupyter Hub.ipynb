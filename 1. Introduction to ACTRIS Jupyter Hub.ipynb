{
 "cells": [
  {
   "cell_type": "markdown",
   "id": "20a1f182",
   "metadata": {},
   "source": [
    "<img src='https://www.actris.eu/sites/default/files/inline-images/Actris%20logo.png' width=200 align=right>\n",
    "\n",
    "# Welcome to the ACTRIS Virtual Research Environment\n",
    "\n",
    "The Aerosol, Clouds and Trace Gases Research Infrastructure (ACTRIS) is the pan-European research infrastructure (RI) producing high-quality data and information on short-lived atmospheric constituents and on the processes leading to the variability of these constituents in natural and controlled atmospheres. In this Virtual Research Environment (VRE) you will learn how to search, download and use data from ACTRIS Data Centre using the high-level, general-purpose programming language Python. \n",
    "\n",
    "NB! The code examples are under development and will have changes frequently. \n"
   ]
  },
  {
   "cell_type": "markdown",
   "id": "8c2f5592",
   "metadata": {},
   "source": [
    "## JupyterHub examples\n",
    "\n",
    "All examples available in this VRE are sourced here: https://github.com/ACTRIS-Data-Centre/actris-jupyter-hub. \n",
    "\n",
    "The JupyterHub is set up with a git pull system (https://nbgitpuller.readthedocs.io/en/latest/use.html) so that the users always gets the latest version of the examples. These examples are located in the actris-jupyter-hub folder, any changes locally in this folder will follow nbgitpullers automatic merging behavior https://nbgitpuller.readthedocs.io/en/latest/topic/automatic-merging.html. \n",
    "\n",
    "\n",
    "Each user of this JupyterHub is welcome to upload and create their own files both within and outside the jupyter-hub folder, without this affecting their work.  \n"
   ]
  },
  {
   "cell_type": "markdown",
   "id": "b5f6f1cb",
   "metadata": {},
   "source": [
    "## Structure\n",
    "\n",
    "Introduction to ACTRIS Jupyter Hub.ipynb\n",
    "\n",
    "Getting started with python.ipynb\n",
    "\n",
    "**Search and access** <br>\n",
    "- Search with ACTRIS Data Portal.ipynb <br>\n",
    "- Search with ACTRIS Metadata Rest API.ipynb <br>\n",
    "- Access ACTRIS In-Situ data.ipynb <br>\n",
    "- Access ACTRIS In-Situ NRT data.ipynb <br>\n",
    "- Access ACTRIS Aerosol remote sensing data.ipynb <br>\n",
    "- Access ACTRIS Cloud remote sensing data.ipynb <br>\n",
    "- Access ACTRIS Trace gases remote sensing data.ipynb <br>\n",
    "- Access ACTRIS Atmospheric simulation chamber data.ipynb <br>\n",
    "- Access data by facility.ipynb <br>\n",
    "\n",
    "**Analyse ACTRIS data** <br>\n",
    "- Handle flagged data.ipynb\n",
    "- Monthly mean values.ipynb\n",
    "- Climatology.ipynb\n",
    "- Merge datasets.ipynb\n",
    "  \n",
    "\n",
    "**Integrated products**  <br>\n",
    "\n",
    "- Equivalent black carbon (eBC).ipynb <br>\n",
    "- Ultrafine particles (ufps).ipynb <br>\n",
    "- Single scattering albedo (SSA).ipynb <br>\n",
    "- PM1 from wood burning and traffic.ipynb <br>\n",
    "- Precipitation.ipynb <br>\n",
    "<br>\n",
    "\n",
    "\n"
   ]
  },
  {
   "cell_type": "code",
   "execution_count": null,
   "id": "52302206",
   "metadata": {},
   "outputs": [],
   "source": []
  }
 ],
 "metadata": {
  "kernelspec": {
   "display_name": "Python 3 (ipykernel)",
   "language": "python",
   "name": "python3"
  },
  "language_info": {
   "codemirror_mode": {
    "name": "ipython",
    "version": 3
   },
   "file_extension": ".py",
   "mimetype": "text/x-python",
   "name": "python",
   "nbconvert_exporter": "python",
   "pygments_lexer": "ipython3",
   "version": "3.9.7"
  }
 },
 "nbformat": 4,
 "nbformat_minor": 5
}
