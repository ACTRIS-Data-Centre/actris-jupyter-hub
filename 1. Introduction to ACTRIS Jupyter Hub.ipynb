{
 "cells": [
  {
   "cell_type": "markdown",
   "id": "20a1f182",
   "metadata": {},
   "source": [
    "<img src='https://www.actris.eu/sites/default/files/inline-images/Actris%20logo.png' width=200 align=right>\n",
    "\n",
    "# Welcome to the ACTRIS Virtual Research Environment\n",
    "\n",
    "The Aerosol, Clouds and Trace Gases Research Infrastructure (ACTRIS) is the pan-European research infrastructure (RI) producing high-quality data and information on short-lived atmospheric constituents and on the processes leading to the variability of these constituents in natural and controlled atmospheres. In this Virtual Research Environment (VRE) you will learn how to search, download and use data from ACTRIS Data Centre using the high-level, general-purpose programming language Python. \n"
   ]
  },
  {
   "cell_type": "markdown",
   "id": "8c2f5592",
   "metadata": {},
   "source": [
    "## JupyterHub examples\n",
    "\n",
    "All examples available in this VRE are sourced here: https://github.com/ACTRIS-Data-Centre/actris-jupyter-hub. \n",
    "\n",
    "The JupyterHub is set up with a git pull system (https://nbgitpuller.readthedocs.io/en/latest/use.html) so that the users always gets the latest version of the examples. These examples are located in the actris-jupyter-hub folder, any changes locally in this folder will follow nbgitpullers automatic merging behavior https://nbgitpuller.readthedocs.io/en/latest/topic/automatic-merging.html. \n",
    "\n",
    "\n",
    "Each user of this JupyterHub is welcome to upload and create their own files both within and outside the jupyter-hub folder, without this affecting their work.  \n"
   ]
  },
  {
   "cell_type": "markdown",
   "id": "b5f6f1cb",
   "metadata": {},
   "source": [
    "### Current examples in jupyter-hub\n",
    "\n",
    "1. Introduction to ACTRIS JupyterHub\n",
    "2. Search with ACTRIS Metadata Rest API \n",
    "3. Access ACTRIS In-Situ data\n",
    "4. Access ACTRIS ARES data \n",
    "5. Access ACTRIS CLU data\n",
    "6. Equivalent black carbon (eBC)\n",
    "7. Ultrafine particles (ufps)\n",
    "8. Single scattering albedo (SSA)\n",
    "9. PM1 from wood burning and traffic\n",
    "10. Climatology\n",
    "\n"
   ]
  },
  {
   "cell_type": "markdown",
   "id": "a64b78c5",
   "metadata": {},
   "source": [
    "### Example of future folder structure and examples in jupyter-hub\n",
    "\n",
    "Introduction:\n",
    "1. Introduction to ACTRIS JupyterHub\n",
    "2. Introduction to Python programming language\n",
    "\n",
    "Explore: \n",
    "1. Search with ACTRIS Metadata Rest API \n",
    "2. Explore ACTRIS National Facilities \n",
    "3. Explore ACTRIS Instruments\n",
    "\n",
    "Access and use/plot data: \n",
    "1. Access and use ACTRIS In-Situ data\n",
    "2. Access and use ACTRIS ARES data \n",
    "3. Access and use ACTRIS CLU data\n",
    "4. Access and use ACTRIS GRES data\n",
    "5. Access and use ACTRIS ASC data\n",
    "6. How to handle flagged data\n",
    "7. Extract statistics from ACTRIS level 2 data (arithmetic mean, std etc)\n",
    "\n",
    "ACTRIS higher level products (lev 3)\n",
    "1. Calculate climatologies\n",
    "2. Calculate regional maps \n",
    "3. Aerosol trend assessment\n",
    "4. Gas trend assesment\n",
    "5. FLEXPART footprint \n",
    "6. Oxidative potential (OP)\n",
    "7. Ultrafine particles (ufps)\n",
    "8. Equivalent black carbon @ACTRIS National Facilities\n",
    "9. Single Scattering Albedo @ACTRIS National Facilities\n",
    "10. Particle light extinction coefficient\n",
    "11. PM1 from wood burning and traffic\n",
    "\n"
   ]
  },
  {
   "cell_type": "code",
   "execution_count": null,
   "id": "52302206",
   "metadata": {},
   "outputs": [],
   "source": []
  }
 ],
 "metadata": {
  "kernelspec": {
   "display_name": "Python 3 (ipykernel)",
   "language": "python",
   "name": "python3"
  },
  "language_info": {
   "codemirror_mode": {
    "name": "ipython",
    "version": 3
   },
   "file_extension": ".py",
   "mimetype": "text/x-python",
   "name": "python",
   "nbconvert_exporter": "python",
   "pygments_lexer": "ipython3",
   "version": "3.9.7"
  }
 },
 "nbformat": 4,
 "nbformat_minor": 5
}
