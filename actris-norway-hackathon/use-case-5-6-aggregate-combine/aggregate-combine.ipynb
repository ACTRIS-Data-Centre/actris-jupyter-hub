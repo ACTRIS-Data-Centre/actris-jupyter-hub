{
 "cells": [
  {
   "cell_type": "markdown",
   "metadata": {},
   "source": [
    "<img src='https://www.actris.eu/sites/default/files/inline-images/Actris%20logo.png' width=200 align=right>\n",
    "\n",
    "# ACTRIS-Norway 3rd Annual Meeting - Hackathon\n",
    "## Use case 5: Aggregate to same time resolution, convert data to have same unit "
   ]
  },
  {
   "cell_type": "markdown",
   "metadata": {},
   "source": [
    "\n",
    "\n",
    "Make code to aggregate different time series to same resolution and converts data to same unit (ex. ug/m3 and ppb). Next step can be to use model data where observational data is missing.  \n",
    "\n",
    "Main aim: Easy access to data sets that are easier to use in VRE or own analysis and compare various variables and model data.   "
   ]
  },
  {
   "cell_type": "markdown",
   "metadata": {},
   "source": [
    "## Use case 6: Combine variables  \n",
    "\n",
    "Use rain amount and concentration in rain to derive deposition, plot time time series of different variables (eg ozone and PM), make scatter plot z versus y, find meteorological observations at station or nearby (RH, T, wind) \n",
    "\n",
    "Main aim: Provide a well-documented product combining variables to obtain a new deposition variable, and analyze this further with other data and models    "
   ]
  },
  {
   "cell_type": "code",
   "execution_count": 7,
   "metadata": {},
   "outputs": [],
   "source": [
    "# Importing useful python libraries\n",
    "import xarray as xr \n",
    "import threddsclient\n",
    "import matplotlib.pyplot as plt\n",
    "import pandas as pd\n",
    "import numpy as np \n",
    "import datetime\n",
    "import os\n",
    "import json"
   ]
  },
  {
   "cell_type": "code",
   "execution_count": 11,
   "metadata": {},
   "outputs": [
    {
     "data": {
      "text/plain": [
       "{'203417': {'id': 203417,\n",
       "  'title': 'Meteorology at Birkenes',\n",
       "  'matrix': 'atmospheric state',\n",
       "  'instrumentType': 'weather sensor',\n",
       "  'station': 'Birkenes I',\n",
       "  'startTime': '2008-12-31T23:00:00.0000000Z',\n",
       "  'endTime': '2011-12-30T23:00:00.0000000Z',\n",
       "  'downloadUrl': 'https://thredds.nilu.no/thredds/fileServer/ebas_doi/FD/3Y/AN/FD3Y-ANKZ.nc',\n",
       "  'opendapUrl': 'https://thredds.nilu.no/thredds/dodsC/ebas_doi/FD/3Y/AN/FD3Y-ANKZ.nc',\n",
       "  'variables': ['air pressure', 'air temperature', 'precipitation depth'],\n",
       "  'pid': 'https://doi.org/10.48597/FD3Y-ANKZ',\n",
       "  'repository': 'IN-SITU'},\n",
       " '203774': {'id': 203774,\n",
       "  'title': 'Meteorology at Birkenes',\n",
       "  'matrix': 'atmospheric state',\n",
       "  'instrumentType': 'weather sensor',\n",
       "  'station': 'Birkenes I',\n",
       "  'startTime': '2011-12-31T23:00:00.0000000Z',\n",
       "  'endTime': '2012-12-31T23:00:00.0000000Z',\n",
       "  'downloadUrl': 'https://thredds.nilu.no/thredds/fileServer/ebas_doi/6Q/BB/M9/6QBB-M95Q.nc',\n",
       "  'opendapUrl': 'https://thredds.nilu.no/thredds/dodsC/ebas_doi/6Q/BB/M9/6QBB-M95Q.nc',\n",
       "  'variables': ['air temperature', 'precipitation depth'],\n",
       "  'pid': 'https://doi.org/10.48597/6QBB-M95Q',\n",
       "  'repository': 'IN-SITU'},\n",
       " '206119': {'id': 206119,\n",
       "  'title': 'Precipitation_amount at Birkenes',\n",
       "  'matrix': 'precipitation phase',\n",
       "  'instrumentType': 'precipitation sampler',\n",
       "  'station': 'Birkenes I',\n",
       "  'startTime': '1989-12-31T23:00:00.0000000Z',\n",
       "  'endTime': '2009-12-31T23:00:00.0000000Z',\n",
       "  'downloadUrl': 'https://thredds.nilu.no/thredds/fileServer/ebas_doi/G9/F6/FH/G9F6-FHPG.nc',\n",
       "  'opendapUrl': 'https://thredds.nilu.no/thredds/dodsC/ebas_doi/G9/F6/FH/G9F6-FHPG.nc',\n",
       "  'variables': ['precipitation depth'],\n",
       "  'pid': 'https://doi.org/10.48597/G9F6-FHPG',\n",
       "  'repository': 'IN-SITU'},\n",
       " '210491': {'id': 210491,\n",
       "  'title': 'Precipitation_amount at Birkenes',\n",
       "  'matrix': 'precipitation phase',\n",
       "  'instrumentType': 'precipitation sampler',\n",
       "  'station': 'Birkenes I',\n",
       "  'startTime': '2002-12-31T23:00:00.0000000Z',\n",
       "  'endTime': '2009-12-31T23:00:00.0000000Z',\n",
       "  'downloadUrl': 'https://thredds.nilu.no/thredds/fileServer/ebas_doi/K6/ZN/9Z/K6ZN-9Z4Y.nc',\n",
       "  'opendapUrl': 'https://thredds.nilu.no/thredds/dodsC/ebas_doi/K6/ZN/9Z/K6ZN-9Z4Y.nc',\n",
       "  'variables': ['precipitation depth'],\n",
       "  'pid': 'https://doi.org/10.48597/K6ZN-9Z4Y',\n",
       "  'repository': 'IN-SITU'}}"
      ]
     },
     "execution_count": 11,
     "metadata": {},
     "output_type": "execute_result"
    }
   ],
   "source": [
    "f = open('basket_precipitation_amount.json')\n",
    "md = json.load(f) \n",
    "md"
   ]
  },
  {
   "cell_type": "code",
   "execution_count": 13,
   "metadata": {},
   "outputs": [
    {
     "name": "stdout",
     "output_type": "stream",
     "text": [
      "203417\n",
      "https://thredds.nilu.no/thredds/dodsC/ebas_doi/FD/3Y/AN/FD3Y-ANKZ.nc\n",
      "203774\n",
      "https://thredds.nilu.no/thredds/dodsC/ebas_doi/6Q/BB/M9/6QBB-M95Q.nc\n",
      "206119\n",
      "https://thredds.nilu.no/thredds/dodsC/ebas_doi/G9/F6/FH/G9F6-FHPG.nc\n",
      "210491\n",
      "https://thredds.nilu.no/thredds/dodsC/ebas_doi/K6/ZN/9Z/K6ZN-9Z4Y.nc\n"
     ]
    }
   ],
   "source": [
    "opendap = []\n",
    "for i in md:\n",
    "    print(i)\n",
    "    print(md[i]['opendapUrl'])\n",
    "    opendap.append(md[i]['opendapUrl'])\n",
    "\n"
   ]
  },
  {
   "cell_type": "code",
   "execution_count": 18,
   "metadata": {},
   "outputs": [
    {
     "ename": "AttributeError",
     "evalue": "'int' object has no attribute 'plot'",
     "output_type": "error",
     "traceback": [
      "\u001b[0;31m---------------------------------------------------------------------------\u001b[0m",
      "\u001b[0;31mAttributeError\u001b[0m                            Traceback (most recent call last)",
      "Cell \u001b[0;32mIn[18], line 3\u001b[0m\n\u001b[1;32m      1\u001b[0m \u001b[38;5;28;01mfor\u001b[39;00m i \u001b[38;5;129;01min\u001b[39;00m \u001b[38;5;28mrange\u001b[39m(\u001b[38;5;28mlen\u001b[39m(opendap)):\n\u001b[1;32m      2\u001b[0m     ds \u001b[38;5;241m=\u001b[39m xr\u001b[38;5;241m.\u001b[39mopen_dataset(opendap[i])\n\u001b[0;32m----> 3\u001b[0m     \u001b[43mds\u001b[49m\u001b[38;5;241;43m.\u001b[39;49m\u001b[43mprecipitation_amount\u001b[49m\u001b[38;5;241;43m.\u001b[39;49m\u001b[43mplot\u001b[49m\u001b[43m(\u001b[49m\u001b[43max\u001b[49m\u001b[38;5;241;43m=\u001b[39;49m\u001b[43mi\u001b[49m\u001b[43m)\u001b[49m\n",
      "File \u001b[0;32m~/anaconda3/lib/python3.9/site-packages/xarray/plot/accessor.py:47\u001b[0m, in \u001b[0;36mDataArrayPlotAccessor.__call__\u001b[0;34m(self, **kwargs)\u001b[0m\n\u001b[1;32m     45\u001b[0m \u001b[38;5;129m@functools\u001b[39m\u001b[38;5;241m.\u001b[39mwraps(dataarray_plot\u001b[38;5;241m.\u001b[39mplot, assigned\u001b[38;5;241m=\u001b[39m(\u001b[38;5;124m\"\u001b[39m\u001b[38;5;124m__doc__\u001b[39m\u001b[38;5;124m\"\u001b[39m, \u001b[38;5;124m\"\u001b[39m\u001b[38;5;124m__annotations__\u001b[39m\u001b[38;5;124m\"\u001b[39m))\n\u001b[1;32m     46\u001b[0m \u001b[38;5;28;01mdef\u001b[39;00m \u001b[38;5;21m__call__\u001b[39m(\u001b[38;5;28mself\u001b[39m, \u001b[38;5;241m*\u001b[39m\u001b[38;5;241m*\u001b[39mkwargs) \u001b[38;5;241m-\u001b[39m\u001b[38;5;241m>\u001b[39m Any:\n\u001b[0;32m---> 47\u001b[0m     \u001b[38;5;28;01mreturn\u001b[39;00m \u001b[43mdataarray_plot\u001b[49m\u001b[38;5;241;43m.\u001b[39;49m\u001b[43mplot\u001b[49m\u001b[43m(\u001b[49m\u001b[38;5;28;43mself\u001b[39;49m\u001b[38;5;241;43m.\u001b[39;49m\u001b[43m_da\u001b[49m\u001b[43m,\u001b[49m\u001b[43m \u001b[49m\u001b[38;5;241;43m*\u001b[39;49m\u001b[38;5;241;43m*\u001b[39;49m\u001b[43mkwargs\u001b[49m\u001b[43m)\u001b[49m\n",
      "File \u001b[0;32m~/anaconda3/lib/python3.9/site-packages/xarray/plot/dataarray_plot.py:306\u001b[0m, in \u001b[0;36mplot\u001b[0;34m(darray, row, col, col_wrap, ax, hue, subplot_kws, **kwargs)\u001b[0m\n\u001b[1;32m    302\u001b[0m     plotfunc \u001b[38;5;241m=\u001b[39m hist\n\u001b[1;32m    304\u001b[0m kwargs[\u001b[38;5;124m\"\u001b[39m\u001b[38;5;124max\u001b[39m\u001b[38;5;124m\"\u001b[39m] \u001b[38;5;241m=\u001b[39m ax\n\u001b[0;32m--> 306\u001b[0m \u001b[38;5;28;01mreturn\u001b[39;00m \u001b[43mplotfunc\u001b[49m\u001b[43m(\u001b[49m\u001b[43mdarray\u001b[49m\u001b[43m,\u001b[49m\u001b[43m \u001b[49m\u001b[38;5;241;43m*\u001b[39;49m\u001b[38;5;241;43m*\u001b[39;49m\u001b[43mkwargs\u001b[49m\u001b[43m)\u001b[49m\n",
      "File \u001b[0;32m~/anaconda3/lib/python3.9/site-packages/xarray/plot/dataarray_plot.py:511\u001b[0m, in \u001b[0;36mline\u001b[0;34m(darray, row, col, figsize, aspect, size, ax, hue, x, y, xincrease, yincrease, xscale, yscale, xticks, yticks, xlim, ylim, add_legend, _labels, *args, **kwargs)\u001b[0m\n\u001b[1;32m    507\u001b[0m ylabel \u001b[38;5;241m=\u001b[39m label_from_attrs(yplt, extra\u001b[38;5;241m=\u001b[39my_suffix)\n\u001b[1;32m    509\u001b[0m _ensure_plottable(xplt_val, yplt_val)\n\u001b[0;32m--> 511\u001b[0m primitive \u001b[38;5;241m=\u001b[39m \u001b[43max\u001b[49m\u001b[38;5;241;43m.\u001b[39;49m\u001b[43mplot\u001b[49m(xplt_val, yplt_val, \u001b[38;5;241m*\u001b[39margs, \u001b[38;5;241m*\u001b[39m\u001b[38;5;241m*\u001b[39mkwargs)\n\u001b[1;32m    513\u001b[0m \u001b[38;5;28;01mif\u001b[39;00m _labels:\n\u001b[1;32m    514\u001b[0m     \u001b[38;5;28;01mif\u001b[39;00m xlabel \u001b[38;5;129;01mis\u001b[39;00m \u001b[38;5;129;01mnot\u001b[39;00m \u001b[38;5;28;01mNone\u001b[39;00m:\n",
      "\u001b[0;31mAttributeError\u001b[0m: 'int' object has no attribute 'plot'"
     ]
    }
   ],
   "source": [
    "for i in range(len(opendap)):\n",
    "    ds = xr.open_dataset(opendap[i])\n",
    "    ds.precipitation_amount.plot(ax=i)"
   ]
  },
  {
   "cell_type": "code",
   "execution_count": null,
   "metadata": {},
   "outputs": [],
   "source": []
  }
 ],
 "metadata": {
  "kernelspec": {
   "display_name": "base",
   "language": "python",
   "name": "python3"
  },
  "language_info": {
   "codemirror_mode": {
    "name": "ipython",
    "version": 3
   },
   "file_extension": ".py",
   "mimetype": "text/x-python",
   "name": "python",
   "nbconvert_exporter": "python",
   "pygments_lexer": "ipython3",
   "version": "3.9.16"
  }
 },
 "nbformat": 4,
 "nbformat_minor": 2
}
