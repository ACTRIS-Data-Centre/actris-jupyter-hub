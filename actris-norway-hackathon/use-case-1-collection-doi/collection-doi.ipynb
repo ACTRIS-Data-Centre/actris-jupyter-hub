{
 "cells": [
  {
   "cell_type": "markdown",
   "metadata": {},
   "source": [
    "<img src='https://www.actris.eu/sites/default/files/inline-images/Actris%20logo.png' width=200 align=right>\n",
    "\n",
    "# ACTRIS-Norway 3rd Annual Meeting - Hackathon\n",
    "## Use case 1: Collection DOI"
   ]
  },
  {
   "cell_type": "markdown",
   "metadata": {},
   "source": [
    "System for coining DOI for selection of data sets (basket) from the portal. Set up specification of metadata requirements, interface and landing pages for collection DOIs. Try the system for different examples of collections. Possible to start coding.   \n",
    "\n",
    "Main aim: Improve the system for citing selected data collections and traceable use of larger data collections in e.g. scientific papers"
   ]
  },
  {
   "cell_type": "markdown",
   "metadata": {},
   "source": [
    "Write spesifications etc in either Markdown or python code. "
   ]
  },
  {
   "cell_type": "code",
   "execution_count": null,
   "metadata": {},
   "outputs": [],
   "source": [
    "import netCDF4"
   ]
  },
  {
   "cell_type": "markdown",
   "metadata": {},
   "source": []
  }
 ],
 "metadata": {
  "kernelspec": {
   "display_name": "base",
   "language": "python",
   "name": "python3"
  },
  "language_info": {
   "name": "python",
   "version": "3.9.16"
  }
 },
 "nbformat": 4,
 "nbformat_minor": 2
}
