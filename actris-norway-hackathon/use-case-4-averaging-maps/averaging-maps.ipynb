{
 "cells": [
  {
   "cell_type": "markdown",
   "metadata": {},
   "source": [
    "<img src='https://www.actris.eu/sites/default/files/inline-images/Actris%20logo.png' width=200 align=right>\n",
    "\n",
    "# ACTRIS-Norway 3rd Annual Meeting - Hackathon\n",
    "## Use case 3: Averaging, climatology, map with averages"
   ]
  },
  {
   "cell_type": "markdown",
   "metadata": {},
   "source": [
    "Create general code to calculate average time series (daily, monthly, yearly) for main ACTRIS variables (in-situ aerosol/trace gases), check flags, outliers etc. Create climatologies for the same variables (monthly variation over ex. 20 years). Show averages on maps, e.g. yearly mean ozone in Europe at different stations. Start example available in VRE, expand this example.  \n",
    "\n",
    "Main aim: Easy access to mature well documented products based on observational data to be used in assessment and scientific articles and reports.   "
   ]
  },
  {
   "cell_type": "code",
   "execution_count": 1,
   "metadata": {},
   "outputs": [],
   "source": [
    "import xarray as xr"
   ]
  },
  {
   "cell_type": "code",
   "execution_count": null,
   "metadata": {},
   "outputs": [],
   "source": []
  }
 ],
 "metadata": {
  "kernelspec": {
   "display_name": "base",
   "language": "python",
   "name": "python3"
  },
  "language_info": {
   "codemirror_mode": {
    "name": "ipython",
    "version": 3
   },
   "file_extension": ".py",
   "mimetype": "text/x-python",
   "name": "python",
   "nbconvert_exporter": "python",
   "pygments_lexer": "ipython3",
   "version": "3.9.16"
  }
 },
 "nbformat": 4,
 "nbformat_minor": 2
}
