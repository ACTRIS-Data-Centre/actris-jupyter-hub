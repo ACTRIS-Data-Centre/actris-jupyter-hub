{
 "cells": [
  {
   "cell_type": "code",
   "execution_count": null,
   "metadata": {},
   "outputs": [],
   "source": [
    "import matplotlib.pyplot as plt\n",
    "import cartopy.crs as ccrs\n",
    "import cartopy.io.img_tiles as cimgt"
   ]
  },
  {
   "cell_type": "code",
   "execution_count": null,
   "metadata": {},
   "outputs": [],
   "source": [
    "def plot_stations(st_list):\n",
    "    stamen_terrain = cimgt.Stamen('terrain-background')\n",
    "    fig = plt.figure(figsize=(10, 5))\n",
    "    ax = fig.add_subplot(1, 1, 1, projection=ccrs.PlateCarree())#ccrs.Robinson())\n",
    "    ax.set_extent([-10, 20, 40, 75], crs=ccrs.PlateCarree())\n",
    "    ax.add_image(stamen_terrain, 6)\n",
    "    ax.stock_img()\n",
    "    #ax.coastlines()\n",
    "    ax.coastlines(resolution='50m', color='black', linewidth=0.3)\n",
    "    for lon,lat in st_list:\n",
    "        ax.plot(lon,lat,'o',transform=ccrs.PlateCarree())\n",
    "    plt.show()"
   ]
  },
  {
   "cell_type": "code",
   "execution_count": null,
   "metadata": {},
   "outputs": [],
   "source": [
    "with open('koordinater.txt') as f:\n",
    "    for line in f:\n",
    "        x, y = line.split(',')\n",
    "        liste.append([float(x),float(y)])\n",
    "f.close()\n",
    "\n",
    "plot_stations(liste)"
   ]
  }
 ],
 "metadata": {
  "kernelspec": {
   "display_name": "cartopy_dev",
   "language": "python",
   "name": "python3"
  },
  "language_info": {
   "name": "python",
   "version": "3.10.2"
  }
 },
 "nbformat": 4,
 "nbformat_minor": 2
}
