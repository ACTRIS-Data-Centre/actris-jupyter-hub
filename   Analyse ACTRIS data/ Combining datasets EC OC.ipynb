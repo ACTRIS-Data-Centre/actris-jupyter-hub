{
 "cells": [
  {
   "cell_type": "markdown",
   "metadata": {},
   "source": [
    "<img src='https://www.actris.eu/sites/default/files/inline-images/Actris%20logo.png' width=200 align=right>\n",
    "\n",
    "# ACTRIS DC \n",
    "## Search and access with ACTRIS Data Portal and json"
   ]
  },
  {
   "cell_type": "code",
   "execution_count": 2,
   "metadata": {},
   "outputs": [],
   "source": [
    "# Libraries for working with multidimensional arrays\n",
    "import numpy as np\n",
    "import xarray as xr\n",
    "import pandas as pd\n",
    "\n",
    "# Libraries for plotting and visualising data\n",
    "import matplotlib.path as mpath\n",
    "import matplotlib.pyplot as plt\n",
    "\n",
    "# Libraries for working with json files\n",
    "import json\n",
    "import requests\n",
    "import os"
   ]
  },
  {
   "cell_type": "markdown",
   "metadata": {},
   "source": [
    "## Access data from example on Search with ACTRIS Data Portal"
   ]
  },
  {
   "cell_type": "markdown",
   "metadata": {},
   "source": [
    "The previous example includes two methods of accessing the data: \n",
    "- THREDDS Data Catalog - Opendap protocol (Streaming of data)\n",
    "- THREDDS Data Catalog - HTTPS protocol (Download of data)\n",
    "\n",
    "You only need to run one of the protocols to get the dataset in question for the analysis. "
   ]
  },
  {
   "cell_type": "code",
   "execution_count": 3,
   "metadata": {},
   "outputs": [],
   "source": [
    "protocol = 'opendap' # choose 'http' or 'opendap'"
   ]
  },
  {
   "cell_type": "code",
   "execution_count": 5,
   "metadata": {},
   "outputs": [],
   "source": [
    "os.chdir(os.getcwd().replace(\"  Analyse ACTRIS data\", \"   Search and access\"))\n",
    "\n",
    "f = open('static/basket.json') # open the file \"basket.json\"\n",
    "md = json.load(f) # load the json file\n",
    "\n",
    "if protocol == 'http': \n",
    "    if os.path.exists(\"static/data_oc_ec\"): \n",
    "        print(\"The data folder exists\")\n",
    "    else:\n",
    "        print(\"The data folder does not exist, here is the short version. To get more information about this protocol see the first example.\")\n",
    "        \n",
    "        f = open('static/basket.json') # open the file \"basket.json\"\n",
    "        md = json.load(f) # load the json file\n",
    "        os.makedirs(\"static/data_oc_ec\")\n",
    "        for i in md: \n",
    "            r = requests.get(md[i]['downloadUrl'])\n",
    "            filename = r.url[-12:]\n",
    "            filepath = os.path.join(\"static/data_oc_ec\", filename)  # Specify the folder path\n",
    "            with open(filepath, mode=\"wb\") as file:\n",
    "                file.write(r.content)"
   ]
  },
  {
   "cell_type": "markdown",
   "metadata": {},
   "source": [
    "## Data processing"
   ]
  },
  {
   "cell_type": "markdown",
   "metadata": {},
   "source": [
    "Depending on the type of data, the documentation for each file can be found here: https://data.actris.eu/docs \n",
    "\n",
    "Since this is an In-Situ dataset the documentation is found here: https://ebas.pages.nilu.no/ebas-io/fileformat_netcdf/index.html "
   ]
  },
  {
   "cell_type": "code",
   "execution_count": 11,
   "metadata": {},
   "outputs": [],
   "source": [
    "ds_elemental_carbon = []  # Create an empty list to store elemental carbon data\n",
    "ds_organic_carbon = []  # Create an empty list to store organic carbon data\n",
    "ds_total_carbon = []  # Create an empty list to store total carbon data\n",
    "\n",
    "for i in md:  # Iterate over the keys in the 'md' dictionary\n",
    "\n",
    "    if protocol == 'opendap':\n",
    "        ds = xr.open_dataset(md[i]['opendapUrl'])\n",
    "    elif protocol == 'http':\n",
    "        filename = md[i]['downloadUrl'][-12:]\n",
    "        ds = xr.open_dataset('data_oc_ec/{}'.format(filename))  \n",
    "    \n",
    "    for j in list(ds.data_vars.keys()):  # Iterate over the variables in the dataset\n",
    "        attrs = ds[j].attrs  # Get the attributes of the variable\n",
    "        \n",
    "        # Check if the variable is elemental carbon with specific attributes\n",
    "        if attrs.get('standard_name') == 'mass_concentration_of_elemental_carbon_in_pm10_in_air' and \\\n",
    "           attrs.get('ebas_statistics') == 'arithmetic mean' and \\\n",
    "           attrs.get('units') == 'ug C/m3':\n",
    "            ds_elemental_carbon.append(ds[j])  # Add the variable to the elemental carbon list\n",
    "        \n",
    "        # Check if the variable is organic carbon with specific attributes\n",
    "        elif attrs.get('standard_name') == 'mass_concentration_of_organic_carbon_in_pm10_in_air' and \\\n",
    "             attrs.get('ebas_statistics') == 'arithmetic mean' and \\\n",
    "             attrs.get('units') == 'ug C/m3':\n",
    "            if 'Fraction' not in ds[j].dims and 'Fractionx' not in ds[j].dims and 'Fractionxx' not in ds[j].dims:\n",
    "                ds_organic_carbon.append(ds[j])  # Add the variable to the organic carbon list\n",
    "        \n",
    "        # Check if the variable is total carbon with specific attributes\n",
    "        elif attrs.get('standard_name') == 'mass_concentration_of_total_carbon_in_pm10_in_air' and \\\n",
    "             attrs.get('ebas_statistics') == 'arithmetic mean' and \\\n",
    "             attrs.get('units') == 'ug C/m3':\n",
    "            ds_total_carbon.append(ds[j])  # Add the variable to the total carbon list"
   ]
  },
  {
   "cell_type": "code",
   "execution_count": 12,
   "metadata": {},
   "outputs": [],
   "source": [
    "# Sort the ds_elemental_carbon list based on the first time value in each DataArray\n",
    "ds_elemental_carbon.sort(key=lambda x: x.time.values[0] if len(x.time) > 0 else np.datetime64('NaT'))\n",
    "\n",
    "# Sort the ds_organic_carbon list based on the first time value in each DataArray\n",
    "ds_organic_carbon.sort(key=lambda x: x.time.values[0] if len(x.time) > 0 else np.datetime64('NaT'))\n",
    "\n",
    "# Sort the ds_total_carbon list based on the first time value in each DataArray\n",
    "ds_total_carbon.sort(key=lambda x: x.time.values[0] if len(x.time) > 0 else np.datetime64('NaT'))"
   ]
  },
  {
   "cell_type": "code",
   "execution_count": 13,
   "metadata": {},
   "outputs": [],
   "source": [
    "# Concatenate the list of DataArrays in ds_elemental_carbon along the 'time' dimension\n",
    "ec_ds = xr.concat([ds for ds in ds_elemental_carbon], dim='time')\n",
    "\n",
    "# Concatenate the list of DataArrays in ds_organic_carbon along the 'time' dimension\n",
    "oc_ds = xr.concat([ds for ds in ds_organic_carbon], dim='time')\n",
    "\n",
    "# Concatenate the list of DataArrays in ds_total_carbon along the 'time' dimension\n",
    "tc_ds = xr.concat([ds for ds in ds_total_carbon], dim='time')"
   ]
  },
  {
   "cell_type": "markdown",
   "metadata": {},
   "source": [
    "## Data visualisation"
   ]
  },
  {
   "cell_type": "markdown",
   "metadata": {},
   "source": [
    "Using matplotlib to create a timeseries plot of elemental carbon and organic carbon at Birkenes "
   ]
  },
  {
   "cell_type": "code",
   "execution_count": 1,
   "metadata": {},
   "outputs": [
    {
     "ename": "NameError",
     "evalue": "name 'plt' is not defined",
     "output_type": "error",
     "traceback": [
      "\u001b[0;31m---------------------------------------------------------------------------\u001b[0m",
      "\u001b[0;31mNameError\u001b[0m                                 Traceback (most recent call last)",
      "Cell \u001b[0;32mIn[1], line 1\u001b[0m\n\u001b[0;32m----> 1\u001b[0m \u001b[43mplt\u001b[49m\u001b[38;5;241m.\u001b[39mfigure(figsize\u001b[38;5;241m=\u001b[39m(\u001b[38;5;241m15\u001b[39m, \u001b[38;5;241m5\u001b[39m))\n\u001b[1;32m      2\u001b[0m plt\u001b[38;5;241m.\u001b[39mplot(ec_ds\u001b[38;5;241m.\u001b[39mtime, ec_ds, label\u001b[38;5;241m=\u001b[39m\u001b[38;5;124m'\u001b[39m\u001b[38;5;124mElemental Carbon\u001b[39m\u001b[38;5;124m'\u001b[39m)\n\u001b[1;32m      3\u001b[0m plt\u001b[38;5;241m.\u001b[39mplot(oc_ds\u001b[38;5;241m.\u001b[39mtime, oc_ds, label\u001b[38;5;241m=\u001b[39m\u001b[38;5;124m'\u001b[39m\u001b[38;5;124mOrganic Carbon\u001b[39m\u001b[38;5;124m'\u001b[39m)\n",
      "\u001b[0;31mNameError\u001b[0m: name 'plt' is not defined"
     ]
    }
   ],
   "source": [
    "plt.figure(figsize=(15, 5))\n",
    "plt.plot(ec_ds.time, ec_ds, label='Elemental Carbon')\n",
    "plt.plot(oc_ds.time, oc_ds, label='Organic Carbon')\n",
    "#plt.plot(tc_ds.time, tc_ds, label='Total Carbon')\n",
    "plt.legend()\n",
    "plt.ylabel('ug C/m3')\n",
    "plt.xlabel('Time')\n",
    "plt.title('Elemental Carbon and Organic Carbon pm10 at Birkenes in Norway')\n",
    "plt.show()"
   ]
  },
  {
   "cell_type": "code",
   "execution_count": null,
   "metadata": {},
   "outputs": [],
   "source": []
  }
 ],
 "metadata": {
  "kernelspec": {
   "display_name": "base",
   "language": "python",
   "name": "python3"
  },
  "language_info": {
   "codemirror_mode": {
    "name": "ipython",
    "version": 3
   },
   "file_extension": ".py",
   "mimetype": "text/x-python",
   "name": "python",
   "nbconvert_exporter": "python",
   "pygments_lexer": "ipython3",
   "version": "3.9.16"
  }
 },
 "nbformat": 4,
 "nbformat_minor": 2
}
