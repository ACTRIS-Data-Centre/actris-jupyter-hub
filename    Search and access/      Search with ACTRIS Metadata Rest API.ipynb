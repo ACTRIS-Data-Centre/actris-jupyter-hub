{
 "cells": [
  {
   "cell_type": "markdown",
   "id": "baf962db",
   "metadata": {},
   "source": [
    "<img src='https://www.actris.eu/sites/default/files/inline-images/Actris%20logo.png' width=200 align=right>\n",
    "\n",
    "# ACTRIS DC \n",
    "## Search with ACTRIS Metadata Rest API "
   ]
  },
  {
   "cell_type": "markdown",
   "id": "5ce62432",
   "metadata": {},
   "source": [
    "The goal of this notebook is to provide a guide on how to access data through the ACTRIS Metadata Rest API. This is a machine to machine approch to accessing data and is suited when you plan to access large amounts of data or only want to use a programming interface to access data. \n",
    "\n",
    "Let's get started!"
   ]
  },
  {
   "cell_type": "markdown",
   "id": "3385e517",
   "metadata": {},
   "source": [
    "### Using ACTRIS metadata catalog REST API\n",
    "\n",
    "ACTRIS metadata catalog REST API: https://prod-actris-md2.nilu.no/index.html\n",
    "\n",
    "The ACTRIS Rest API uses the ACTRIS vocabulary for several of the search criteria, the vocabulary can be found here: https://vocabulary.actris.nilu.no/skosmos/actris_vocab/en/"
   ]
  },
  {
   "cell_type": "markdown",
   "id": "0d1d3f44",
   "metadata": {},
   "source": [
    "### Import libraries"
   ]
  },
  {
   "cell_type": "code",
   "execution_count": 1,
   "id": "a4ec45b0",
   "metadata": {},
   "outputs": [],
   "source": [
    "# Library for working with multi-dimensional arrays \n",
    "import pandas as pd\n",
    "\n",
    "# Libraries for working with JSON files, making HTTP requests, and handling file system operations\n",
    "import json\n",
    "import requests\n",
    "import os\n",
    "\n",
    "# Libary for creating python widgets\n",
    "import ipywidgets as widgets\n",
    "\n",
    "# Library for creating interactive plots\n",
    "import plotly.express as px"
   ]
  },
  {
   "cell_type": "markdown",
   "id": "10074aa0",
   "metadata": {},
   "source": [
    "## Accessing metadata\n",
    "\n",
    "The full ACTRIS metadata catalog can be accessed with https://prod-actris-md2.nilu.no/metadata/. The API uses pagination, so to get the full catalogue of what you are searching for you have to go through all pages untill you hit an empty page. \n",
    "\n",
    "## Show this... \n"
   ]
  },
  {
   "cell_type": "code",
   "execution_count": 19,
   "id": "ec8edcef",
   "metadata": {},
   "outputs": [],
   "source": [
    "# get all metadata in catalogue \n",
    "response = requests.get(\"https://prod-actris-md2.nilu.no/metadata/page/0\") \n",
    "metadata_archive = response.json()  "
   ]
  },
  {
   "cell_type": "code",
   "execution_count": 20,
   "id": "4b72f8a1",
   "metadata": {
    "scrolled": true
   },
   "outputs": [
    {
     "data": {
      "text/plain": [
       "{'id': '674794b5a34b92517e7f7af3',\n",
       " 'md_metadata': {'id': 16519,\n",
       "  'provider': {'name': 'CLU', 'atom': 'http://localhost:5009/providers/11'},\n",
       "  'file_identifier': '20230205_galati_lwc-scaled-adiabatic.nc',\n",
       "  'language': 'en',\n",
       "  'hierarchy_level': 'dataset',\n",
       "  'online_resource': {'linkage': 'https://cloudnet.fmi.fi/'},\n",
       "  'datestamp': '2024-05-31T07:53:59.647000Z',\n",
       "  'created': '2024-05-31T07:54:00Z',\n",
       "  'contact': [{'first_name': 'Ewan',\n",
       "    'last_name': \"O'Connor\",\n",
       "    'organisation_name': 'Finnish Meteorological Institute (FMI)',\n",
       "    'role_code': ['pointOfContact'],\n",
       "    'country_code': 'FI'}]},\n",
       " 'md_identification': {'abstract': 'Liquid water content data derived from cloud remote sensing measurements at Galați',\n",
       "  'title': 'Liquid water content data derived from cloud remote sensing measurements at Galați',\n",
       "  'date_type': 'creation',\n",
       "  'contact': [{'first_name': 'Simo',\n",
       "    'last_name': 'Tukiainen',\n",
       "    'organisation_name': 'Finnish Meteorological Institute (FMI)',\n",
       "    'role_code': ['processor'],\n",
       "    'country_code': 'FI'}],\n",
       "  'online_resource': {'linkage': 'https://cloudnet.fmi.fi/file/04aad539-1347-4f0a-8e70-5b7386578d71'},\n",
       "  'identifier': {'pid': 'https://hdl.handle.net/21.12132/1.04aad53913474f0a',\n",
       "   'type': 'handle'},\n",
       "  'date': '2023-02-05T00:00:15Z'},\n",
       " 'md_constraints': {'access_constraints': 'license',\n",
       "  'use_constraints': 'license',\n",
       "  'other_constraints': 'N/A',\n",
       "  'data_licence': 'CC-BY-4.0',\n",
       "  'metadata_licence': 'CC-BY-4.0',\n",
       "  'citation': \"Constantin, D., Rosu, A., O'Connor, E., & Voiculescu, M. (2024). Liquid water content data from Galați on 5 February 2023. ACTRIS Cloud remote sensing data centre unit (CLU). https://hdl.handle.net/21.12132/1.04aad53913474f0a\",\n",
       "  'acknowledgement': 'We acknowledge ACTRIS and Finnish Meteorological Institute for providing the data set which is available for download from https://cloudnet.fmi.fi. We acknowledge ECMWF for providing IFS model data.'},\n",
       " 'md_keywords': {'keywords': ['actris', 'fmi', 'liquid water content']},\n",
       " 'md_data_identification': {'language': 'en',\n",
       "  'topic_category': 'climatologyMeteorologyAtmosphere',\n",
       "  'description': 'time series of profile measurements',\n",
       "  'facility': {'identifier': 'sy91',\n",
       "   'name': 'Galati',\n",
       "   'lat': 45.435,\n",
       "   'lon': 28.037,\n",
       "   'alt': 40.0,\n",
       "   'country_code': 'RO',\n",
       "   'wmo_region': 'Europe',\n",
       "   'identifier_type': 'other PID',\n",
       "   'uri': 'https://prod-actris-md.nilu.no/facilities/sy91',\n",
       "   'active': True,\n",
       "   'actris_national_facility': True,\n",
       "   'actris_nf_uri': 'https://actris-nf-labelling.out.ocp.fmi.fi/facility/102',\n",
       "   'facility_type': ['observation platform, fixed']}},\n",
       " 'ex_geographic_bounding_box': {'west_bound_longitude': 28.037,\n",
       "  'east_bound_longitude': 28.037,\n",
       "  'south_bound_latitude': 45.435,\n",
       "  'north_bound_latitude': 45.435},\n",
       " 'ex_temporal_extent': {'time_period_begin': '2023-02-05T00:00:15Z',\n",
       "  'time_period_end': '2023-02-05T23:59:44Z'},\n",
       " 'md_content_information': {'attribute_descriptions': ['liquid droplet mass concentration'],\n",
       "  'content_type': 'physicalMeasurement'},\n",
       " 'md_distribution_information': [{'data_format': 'netcdf',\n",
       "   'version_data_format': 'HDF5 (NetCDF4)',\n",
       "   'dataset_url': 'https://cloudnet.fmi.fi/api/download/product/04aad539-1347-4f0a-8e70-5b7386578d71/20230205_galati_lwc-scaled-adiabatic.nc',\n",
       "   'protocol': 'HTTP',\n",
       "   'function': 'download',\n",
       "   'restriction': {'set': False},\n",
       "   'transfersize': 0.237,\n",
       "   'description': 'Direct download of data file'}],\n",
       " 'md_actris_specific': {'facility_type': 'observation platform, fixed',\n",
       "  'product_type': 'observation',\n",
       "  'matrix': 'cloud phase',\n",
       "  'instrument_type': ['cloud radar', 'lidar', 'microwave radiometer'],\n",
       "  'program_affiliation': ['ACTRIS', 'CLOUDNET'],\n",
       "  'legacy_data': False,\n",
       "  'observation_timeliness': 'scheduled',\n",
       "  'data_product': 'scheduled data'},\n",
       " 'dq_data_quality_information': {'level': 'dataset',\n",
       "  'compliance': 'ACTRIS compliant'}}"
      ]
     },
     "execution_count": 20,
     "metadata": {},
     "output_type": "execute_result"
    }
   ],
   "source": [
    "metadata_archive[0] # show metadata"
   ]
  },
  {
   "cell_type": "code",
   "execution_count": 21,
   "id": "928c5b84",
   "metadata": {},
   "outputs": [
    {
     "data": {
      "text/plain": [
       "id                                                             16519\n",
       "provider           {'name': 'CLU', 'atom': 'http://localhost:5009...\n",
       "file_identifier              20230205_galati_lwc-scaled-adiabatic.nc\n",
       "language                                                          en\n",
       "hierarchy_level                                              dataset\n",
       "online_resource              {'linkage': 'https://cloudnet.fmi.fi/'}\n",
       "datestamp                                2024-05-31T07:53:59.647000Z\n",
       "created                                         2024-05-31T07:54:00Z\n",
       "contact            [{'first_name': 'Ewan', 'last_name': 'O'Connor...\n",
       "Name: 0, dtype: object"
      ]
     },
     "execution_count": 21,
     "metadata": {},
     "output_type": "execute_result"
    }
   ],
   "source": [
    "# Most of these keys consists of a new dictonary with metadata information. \n",
    "# An example is md_metadata \n",
    "md_list = []\n",
    "for f in metadata_archive:\n",
    "    md_list.append(f['md_metadata']) \n",
    "df_md_metadata = pd.DataFrame.from_records(md_list)\n",
    "\n",
    "df_md_metadata.iloc[0] #only show first element in list of metadata"
   ]
  },
  {
   "cell_type": "code",
   "execution_count": 22,
   "id": "3ffe108c",
   "metadata": {
    "scrolled": true
   },
   "outputs": [
    {
     "data": {
      "text/plain": [
       "[{'first_name': 'Ewan',\n",
       "  'last_name': \"O'Connor\",\n",
       "  'organisation_name': 'Finnish Meteorological Institute (FMI)',\n",
       "  'role_code': ['pointOfContact'],\n",
       "  'country_code': 'FI'}]"
      ]
     },
     "execution_count": 22,
     "metadata": {},
     "output_type": "execute_result"
    }
   ],
   "source": [
    "# Above the column 'contact' includes more information about a contact person for each dataset. \n",
    "\n",
    "df_md_metadata.iloc[0]['contact'] # show contact information for first dataset"
   ]
  },
  {
   "cell_type": "code",
   "execution_count": 23,
   "metadata": {},
   "outputs": [
    {
     "data": {
      "text/html": [
       "<div>\n",
       "<style scoped>\n",
       "    .dataframe tbody tr th:only-of-type {\n",
       "        vertical-align: middle;\n",
       "    }\n",
       "\n",
       "    .dataframe tbody tr th {\n",
       "        vertical-align: top;\n",
       "    }\n",
       "\n",
       "    .dataframe thead th {\n",
       "        text-align: right;\n",
       "    }\n",
       "</style>\n",
       "<table border=\"1\" class=\"dataframe\">\n",
       "  <thead>\n",
       "    <tr style=\"text-align: right;\">\n",
       "      <th></th>\n",
       "      <th>attribute_descriptions</th>\n",
       "      <th>content_type</th>\n",
       "    </tr>\n",
       "  </thead>\n",
       "  <tbody>\n",
       "    <tr>\n",
       "      <th>0</th>\n",
       "      <td>[liquid droplet mass concentration]</td>\n",
       "      <td>physicalMeasurement</td>\n",
       "    </tr>\n",
       "    <tr>\n",
       "      <th>1</th>\n",
       "      <td>[ice particle mass concentration]</td>\n",
       "      <td>physicalMeasurement</td>\n",
       "    </tr>\n",
       "    <tr>\n",
       "      <th>2</th>\n",
       "      <td>[air vertical velocity, drizzle droplet equivo...</td>\n",
       "      <td>physicalMeasurement</td>\n",
       "    </tr>\n",
       "    <tr>\n",
       "      <th>3</th>\n",
       "      <td>[hydrometeor type classification]</td>\n",
       "      <td>physicalMeasurement</td>\n",
       "    </tr>\n",
       "    <tr>\n",
       "      <th>4</th>\n",
       "      <td>[liquid droplet mass concentration]</td>\n",
       "      <td>physicalMeasurement</td>\n",
       "    </tr>\n",
       "    <tr>\n",
       "      <th>5</th>\n",
       "      <td>[ice particle mass concentration]</td>\n",
       "      <td>physicalMeasurement</td>\n",
       "    </tr>\n",
       "    <tr>\n",
       "      <th>6</th>\n",
       "      <td>[air vertical velocity, drizzle droplet equivo...</td>\n",
       "      <td>physicalMeasurement</td>\n",
       "    </tr>\n",
       "    <tr>\n",
       "      <th>7</th>\n",
       "      <td>[hydrometeor type classification]</td>\n",
       "      <td>physicalMeasurement</td>\n",
       "    </tr>\n",
       "    <tr>\n",
       "      <th>8</th>\n",
       "      <td>[liquid droplet mass concentration]</td>\n",
       "      <td>physicalMeasurement</td>\n",
       "    </tr>\n",
       "    <tr>\n",
       "      <th>9</th>\n",
       "      <td>[ice particle mass concentration]</td>\n",
       "      <td>physicalMeasurement</td>\n",
       "    </tr>\n",
       "    <tr>\n",
       "      <th>10</th>\n",
       "      <td>[air vertical velocity, drizzle droplet equivo...</td>\n",
       "      <td>physicalMeasurement</td>\n",
       "    </tr>\n",
       "    <tr>\n",
       "      <th>11</th>\n",
       "      <td>[hydrometeor type classification]</td>\n",
       "      <td>physicalMeasurement</td>\n",
       "    </tr>\n",
       "    <tr>\n",
       "      <th>12</th>\n",
       "      <td>[air vertical velocity, drizzle droplet equivo...</td>\n",
       "      <td>physicalMeasurement</td>\n",
       "    </tr>\n",
       "    <tr>\n",
       "      <th>13</th>\n",
       "      <td>[ice particle mass concentration]</td>\n",
       "      <td>physicalMeasurement</td>\n",
       "    </tr>\n",
       "    <tr>\n",
       "      <th>14</th>\n",
       "      <td>[hydrometeor type classification]</td>\n",
       "      <td>physicalMeasurement</td>\n",
       "    </tr>\n",
       "    <tr>\n",
       "      <th>15</th>\n",
       "      <td>[air vertical velocity, drizzle droplet equivo...</td>\n",
       "      <td>physicalMeasurement</td>\n",
       "    </tr>\n",
       "    <tr>\n",
       "      <th>16</th>\n",
       "      <td>[ice particle mass concentration]</td>\n",
       "      <td>physicalMeasurement</td>\n",
       "    </tr>\n",
       "    <tr>\n",
       "      <th>17</th>\n",
       "      <td>[hydrometeor type classification]</td>\n",
       "      <td>physicalMeasurement</td>\n",
       "    </tr>\n",
       "    <tr>\n",
       "      <th>18</th>\n",
       "      <td>[air vertical velocity, drizzle droplet equivo...</td>\n",
       "      <td>physicalMeasurement</td>\n",
       "    </tr>\n",
       "    <tr>\n",
       "      <th>19</th>\n",
       "      <td>[ice particle mass concentration]</td>\n",
       "      <td>physicalMeasurement</td>\n",
       "    </tr>\n",
       "    <tr>\n",
       "      <th>20</th>\n",
       "      <td>[hydrometeor type classification]</td>\n",
       "      <td>physicalMeasurement</td>\n",
       "    </tr>\n",
       "    <tr>\n",
       "      <th>21</th>\n",
       "      <td>[ice particle mass concentration]</td>\n",
       "      <td>physicalMeasurement</td>\n",
       "    </tr>\n",
       "    <tr>\n",
       "      <th>22</th>\n",
       "      <td>[hydrometeor type classification]</td>\n",
       "      <td>physicalMeasurement</td>\n",
       "    </tr>\n",
       "    <tr>\n",
       "      <th>23</th>\n",
       "      <td>[air vertical velocity, drizzle droplet equivo...</td>\n",
       "      <td>physicalMeasurement</td>\n",
       "    </tr>\n",
       "    <tr>\n",
       "      <th>24</th>\n",
       "      <td>[air vertical velocity, drizzle droplet equivo...</td>\n",
       "      <td>physicalMeasurement</td>\n",
       "    </tr>\n",
       "  </tbody>\n",
       "</table>\n",
       "</div>"
      ],
      "text/plain": [
       "                               attribute_descriptions         content_type\n",
       "0                 [liquid droplet mass concentration]  physicalMeasurement\n",
       "1                   [ice particle mass concentration]  physicalMeasurement\n",
       "2   [air vertical velocity, drizzle droplet equivo...  physicalMeasurement\n",
       "3                   [hydrometeor type classification]  physicalMeasurement\n",
       "4                 [liquid droplet mass concentration]  physicalMeasurement\n",
       "5                   [ice particle mass concentration]  physicalMeasurement\n",
       "6   [air vertical velocity, drizzle droplet equivo...  physicalMeasurement\n",
       "7                   [hydrometeor type classification]  physicalMeasurement\n",
       "8                 [liquid droplet mass concentration]  physicalMeasurement\n",
       "9                   [ice particle mass concentration]  physicalMeasurement\n",
       "10  [air vertical velocity, drizzle droplet equivo...  physicalMeasurement\n",
       "11                  [hydrometeor type classification]  physicalMeasurement\n",
       "12  [air vertical velocity, drizzle droplet equivo...  physicalMeasurement\n",
       "13                  [ice particle mass concentration]  physicalMeasurement\n",
       "14                  [hydrometeor type classification]  physicalMeasurement\n",
       "15  [air vertical velocity, drizzle droplet equivo...  physicalMeasurement\n",
       "16                  [ice particle mass concentration]  physicalMeasurement\n",
       "17                  [hydrometeor type classification]  physicalMeasurement\n",
       "18  [air vertical velocity, drizzle droplet equivo...  physicalMeasurement\n",
       "19                  [ice particle mass concentration]  physicalMeasurement\n",
       "20                  [hydrometeor type classification]  physicalMeasurement\n",
       "21                  [ice particle mass concentration]  physicalMeasurement\n",
       "22                  [hydrometeor type classification]  physicalMeasurement\n",
       "23  [air vertical velocity, drizzle droplet equivo...  physicalMeasurement\n",
       "24  [air vertical velocity, drizzle droplet equivo...  physicalMeasurement"
      ]
     },
     "execution_count": 23,
     "metadata": {},
     "output_type": "execute_result"
    }
   ],
   "source": [
    "# Another example of extracting metadata, here the content information.\n",
    "files_list = []\n",
    "for f in metadata_archive:\n",
    "    url = f['md_content_information']\n",
    "    files_list.append(url)\n",
    "    \n",
    "df_content_information = pd.DataFrame.from_records(files_list)\n",
    "# Displays the content information for all datasets from Birkenes II \n",
    "df_content_information \n"
   ]
  },
  {
   "cell_type": "code",
   "execution_count": 24,
   "id": "6ef20ee6",
   "metadata": {},
   "outputs": [
    {
     "data": {
      "text/plain": [
       "data_format                                                       netcdf\n",
       "version_data_format                                       HDF5 (NetCDF4)\n",
       "dataset_url            https://cloudnet.fmi.fi/api/download/product/0...\n",
       "protocol                                                            HTTP\n",
       "function                                                        download\n",
       "restriction                                               {'set': False}\n",
       "transfersize                                                       0.237\n",
       "description                                 Direct download of data file\n",
       "Name: 0, dtype: object"
      ]
     },
     "execution_count": 24,
     "metadata": {},
     "output_type": "execute_result"
    }
   ],
   "source": [
    "# Another example of extracting metadata, here the distribution information.\n",
    "# The distribution information includes data format, dataset url, protocol, restrictions and more.\n",
    "\n",
    "files_list = []\n",
    "for f in metadata_archive:\n",
    "    url = f['md_distribution_information'][0]\n",
    "    files_list.append(url)\n",
    "    \n",
    "df_distribution_information = pd.DataFrame.from_records(files_list)\n",
    "df_distribution_information.iloc[0] #show the distribution information for the first dataset. \n",
    "# If you wish to see distribution information about all Birkenes II datasets, remove .iloc[0]"
   ]
  }
 ],
 "metadata": {
  "kernelspec": {
   "display_name": "base",
   "language": "python",
   "name": "python3"
  },
  "language_info": {
   "codemirror_mode": {
    "name": "ipython",
    "version": 3
   },
   "file_extension": ".py",
   "mimetype": "text/x-python",
   "name": "python",
   "nbconvert_exporter": "python",
   "pygments_lexer": "ipython3",
   "version": "3.9.16"
  }
 },
 "nbformat": 4,
 "nbformat_minor": 5
}
